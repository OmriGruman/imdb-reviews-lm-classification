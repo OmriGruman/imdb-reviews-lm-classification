{
  "cells": [
    {
      "attachments": {},
      "cell_type": "markdown",
      "metadata": {
        "id": "lzvrOf5fKZKy"
      },
      "source": [
        "# IMDB Reviews Classification: Language Model vs End-to-End"
      ]
    },
    {
      "attachments": {},
      "cell_type": "markdown",
      "metadata": {
        "id": "SKCYvMgxKZKz"
      },
      "source": [
        "# Setup"
      ]
    },
    {
      "attachments": {},
      "cell_type": "markdown",
      "metadata": {
        "id": "nnmfNusnJO5V"
      },
      "source": [
        "Mount drive, to work from Google Colab"
      ]
    },
    {
      "cell_type": "code",
      "execution_count": 1,
      "metadata": {
        "colab": {
          "base_uri": "https://localhost:8080/",
          "height": 0
        },
        "id": "FoMim3xbhZel",
        "outputId": "02e14ad6-cab2-4da3-a2ac-c0e1d244711a"
      },
      "outputs": [
        {
          "name": "stdout",
          "output_type": "stream",
          "text": [
            "Mounted at /content/drive\n"
          ]
        }
      ],
      "source": [
        "from google.colab import drive\n",
        "drive.mount('/content/drive')"
      ]
    },
    {
      "attachments": {},
      "cell_type": "markdown",
      "metadata": {
        "id": "qXWRyoBDJTN_"
      },
      "source": [
        "Change to the project directory"
      ]
    },
    {
      "cell_type": "code",
      "execution_count": 2,
      "metadata": {
        "colab": {
          "base_uri": "https://localhost:8080/",
          "height": 0
        },
        "id": "4xyTGh3ypz7Y",
        "outputId": "6645bfda-6734-4553-8410-1075a7ce6e53"
      },
      "outputs": [
        {
          "name": "stdout",
          "output_type": "stream",
          "text": [
            "/content/drive/MyDrive/Colab Notebooks/NLP\n",
            "\u001b[0m\u001b[01;34mdata\u001b[0m/  main.ipynb  \u001b[01;34mmodels\u001b[0m/  \u001b[01;34mruns\u001b[0m/\n"
          ]
        }
      ],
      "source": [
        "%cd \"/content/drive/MyDrive/Colab Notebooks/NLP\"\n",
        "%ls"
      ]
    },
    {
      "attachments": {},
      "cell_type": "markdown",
      "metadata": {
        "id": "cwHfNmGeJVGO"
      },
      "source": [
        "Download the IMDB dataset"
      ]
    },
    {
      "cell_type": "code",
      "execution_count": 3,
      "metadata": {
        "id": "jk0YTmOzmp7g"
      },
      "outputs": [],
      "source": [
        "#!wget https://ai.stanford.edu/~amaas/data/sentiment/aclImdb_v1.tar.gz\n",
        "#!tar xvzf aclImdb_v1.tar.gz"
      ]
    },
    {
      "attachments": {},
      "cell_type": "markdown",
      "metadata": {
        "id": "AKgzUji5JXWG"
      },
      "source": [
        "All the imports we need through the process"
      ]
    },
    {
      "cell_type": "code",
      "execution_count": 4,
      "metadata": {
        "id": "RbCGrBgIKZK0"
      },
      "outputs": [],
      "source": [
        "# Basic\n",
        "import os\n",
        "import sys\n",
        "import random\n",
        "import json\n",
        "import datetime\n",
        "import shutil\n",
        "from tqdm import tqdm\n",
        "\n",
        "# Data\n",
        "import numpy as np\n",
        "import matplotlib.pyplot as plt\n",
        "import seaborn as sns\n",
        "\n",
        "# ML\n",
        "from sklearn.model_selection import train_test_split\n",
        "from sklearn.metrics import confusion_matrix\n",
        "\n",
        "# DL\n",
        "import torch\n",
        "import torch.nn as nn\n",
        "from torch.nn.utils.rnn import pack_sequence, unpack_sequence\n",
        "from torch.utils.data import Dataset, DataLoader\n",
        "from torch.utils.tensorboard import SummaryWriter\n",
        "\n",
        "# NLP\n",
        "import nltk\n",
        "from nltk.tokenize import word_tokenize, sent_tokenize\n",
        "\n",
        "import gensim.downloader"
      ]
    },
    {
      "attachments": {},
      "cell_type": "markdown",
      "metadata": {
        "id": "oCBLQproJbQ_"
      },
      "source": [
        "Load the configuration file"
      ]
    },
    {
      "cell_type": "code",
      "execution_count": 5,
      "metadata": {
        "colab": {
          "base_uri": "https://localhost:8080/",
          "height": 0
        },
        "id": "EIv13vPeR0EQ",
        "outputId": "cc53466b-7603-4f2e-de36-7835d5dde5ef"
      },
      "outputs": [
        {
          "data": {
            "text/plain": [
              "{'val_size': 0.25,\n",
              " 'lm_vocab_size': 15000,\n",
              " 'lm_sample_size': 10000,\n",
              " 'lm_max_sequence_len': 60,\n",
              " 'lm_batch_size': 256,\n",
              " 'lm_embedding_dim': 300,\n",
              " 'lm_hidden_dim': 600,\n",
              " 'lm_num_layers': 1,\n",
              " 'lm_epochs': 10,\n",
              " 'clf_batch_size': 256,\n",
              " 'clf_embeddings': 'glove-wiki-gigaword-300',\n",
              " 'clf_hidden_dim': 600,\n",
              " 'clf_num_layers': 2,\n",
              " 'clf_epochs': 10}"
            ]
          },
          "execution_count": 5,
          "metadata": {},
          "output_type": "execute_result"
        }
      ],
      "source": [
        "with open(\"config.json\") as f:\n",
        "    config = json.loads(f.read())\n",
        "config"
      ]
    },
    {
      "attachments": {},
      "cell_type": "markdown",
      "metadata": {
        "id": "DLQThgezJdBV"
      },
      "source": [
        "Check if the pre-trained embeddings we want exist in Gensim's archive"
      ]
    },
    {
      "cell_type": "code",
      "execution_count": 6,
      "metadata": {
        "colab": {
          "base_uri": "https://localhost:8080/",
          "height": 0
        },
        "id": "AclVpPRhkWnT",
        "outputId": "6432dc66-c3fc-4814-d396-2d59b2f017f8"
      },
      "outputs": [
        {
          "name": "stdout",
          "output_type": "stream",
          "text": [
            "Available word embeddings: fasttext-wiki-news-subwords-300\n",
            "conceptnet-numberbatch-17-06-300\n",
            "word2vec-ruscorpora-300\n",
            "word2vec-google-news-300\n",
            "glove-wiki-gigaword-50\n",
            "glove-wiki-gigaword-100\n",
            "glove-wiki-gigaword-200\n",
            "glove-wiki-gigaword-300\n",
            "glove-twitter-25\n",
            "glove-twitter-50\n",
            "glove-twitter-100\n",
            "glove-twitter-200\n",
            "__testing_word2vec-matrix-synopsis\n"
          ]
        }
      ],
      "source": [
        "available_embeddings = list(gensim.downloader.info()['models'].keys())\n",
        "print(\"Available word embeddings:\", '\\n'.join(available_embeddings))\n",
        "\n",
        "assert config['clf_embeddings'] in available_embeddings"
      ]
    },
    {
      "attachments": {},
      "cell_type": "markdown",
      "metadata": {
        "id": "CGpAxYqHJniU"
      },
      "source": [
        "Download embeddings "
      ]
    },
    {
      "cell_type": "code",
      "execution_count": 7,
      "metadata": {
        "colab": {
          "base_uri": "https://localhost:8080/",
          "height": 0
        },
        "id": "S0WpmaZ0kWnT",
        "outputId": "dd756d19-49d9-4cab-d9b5-6e75b3533815"
      },
      "outputs": [
        {
          "name": "stdout",
          "output_type": "stream",
          "text": [
            "[==================================================] 100.0% 376.1/376.1MB downloaded\n"
          ]
        }
      ],
      "source": [
        "clf_embeddings = gensim.downloader.load(config['clf_embeddings'])"
      ]
    },
    {
      "cell_type": "code",
      "execution_count": 8,
      "metadata": {
        "colab": {
          "base_uri": "https://localhost:8080/",
          "height": 0
        },
        "id": "YGLUyiRtw6Cu",
        "outputId": "baf9ceb0-bcd8-4f8a-b7e6-02315f19b550"
      },
      "outputs": [
        {
          "name": "stderr",
          "output_type": "stream",
          "text": [
            "[nltk_data] Downloading package punkt to /root/nltk_data...\n",
            "[nltk_data]   Unzipping tokenizers/punkt.zip.\n"
          ]
        }
      ],
      "source": [
        "nltk.download('punkt')\n",
        "\n",
        "device = (\n",
        "    \"cuda\"\n",
        "    if torch.cuda.is_available()\n",
        "    else \"cpu\"\n",
        ")\n",
        "# device = 'cpu'"
      ]
    },
    {
      "attachments": {},
      "cell_type": "markdown",
      "metadata": {
        "id": "k_qSkYuoKZK1"
      },
      "source": [
        "Extract the reviews from the separate files, and put them all in a single file"
      ]
    },
    {
      "cell_type": "code",
      "execution_count": 9,
      "metadata": {
        "id": "CNZy_yHYFR3t"
      },
      "outputs": [],
      "source": [
        "def extract_reviews(dir_path, out_filename):\n",
        "    review_files = os.listdir(dir_path)\n",
        "    print(f\"Extract {len(review_files)} from {dir_path} into {out_filename}.\")\n",
        "\n",
        "    reviews = []\n",
        "    for review_file in review_files:\n",
        "        with open(os.path.join(dir_path, review_file)) as f:\n",
        "            reviews.append(f.read())\n",
        "    print('Done reading!')\n",
        "    \n",
        "    with open(out_filename, 'w') as f:\n",
        "        f.write('\\n'.join(reviews))\n",
        "    print('Done writing!')\n",
        "    "
      ]
    },
    {
      "cell_type": "code",
      "execution_count": null,
      "metadata": {
        "id": "AlG7CwC8FR3t"
      },
      "outputs": [],
      "source": [
        "# extract_reviews(\"aclImdb/train/pos\", \"data/train_pos\")\n",
        "# extract_reviews(\"aclImdb/train/neg\", \"data/train_neg\")\n",
        "# extract_reviews(\"aclImdb/test/pos\", \"data/test_pos\")\n",
        "# extract_reviews(\"aclImdb/test/neg\", \"data/test_neg\")"
      ]
    },
    {
      "attachments": {},
      "cell_type": "markdown",
      "metadata": {
        "id": "aUgXMuYsJ7j0"
      },
      "source": [
        "Read the reviews"
      ]
    },
    {
      "cell_type": "code",
      "execution_count": 10,
      "metadata": {
        "id": "PX8HqS0QKZK1"
      },
      "outputs": [],
      "source": [
        "def read_reviews(reivews_file, max_read=None):\n",
        "    with open(reivews_file) as f:\n",
        "        reviews = f.read().split('\\n')\n",
        "    return reviews"
      ]
    },
    {
      "cell_type": "code",
      "execution_count": 11,
      "metadata": {
        "id": "XO8_2T9LKZK1"
      },
      "outputs": [],
      "source": [
        "train_pos_text = read_reviews('data/train_pos')\n",
        "train_neg_text = read_reviews('data/train_neg')\n",
        "test_pos_text = read_reviews('data/test_pos')\n",
        "test_neg_text = read_reviews('data/test_neg')"
      ]
    },
    {
      "attachments": {},
      "cell_type": "markdown",
      "metadata": {
        "id": "a8QnxHZ4KZK2"
      },
      "source": [
        "## 1 Language Modeling"
      ]
    },
    {
      "attachments": {},
      "cell_type": "markdown",
      "metadata": {
        "id": "-Yw2RdapJ-AP"
      },
      "source": [
        "Our first task is to define and train a Language Model, using the reviews we've collected from the IMDB dataset"
      ]
    },
    {
      "attachments": {},
      "cell_type": "markdown",
      "metadata": {
        "id": "UlBcI2CuKZK2"
      },
      "source": [
        "### 1.1 Data Exploration & Analysis"
      ]
    },
    {
      "attachments": {},
      "cell_type": "markdown",
      "metadata": {
        "id": "_MtIpD7pKZK3"
      },
      "source": [
        "Check for line break tags in the review strings."
      ]
    },
    {
      "cell_type": "code",
      "execution_count": 12,
      "metadata": {
        "colab": {
          "base_uri": "https://localhost:8080/",
          "height": 0
        },
        "id": "EfG96_WIKZK3",
        "outputId": "e86f0a18-b94c-4860-9f93-fe95a5037496"
      },
      "outputs": [
        {
          "name": "stdout",
          "output_type": "stream",
          "text": [
            "Homelessness (or Houselessness as George Carlin stated) has been an issue for years but never a plan to help those on the street that were once considered human who did everything from going to school, work, or vote for the matter. Most people think of the homeless as just a lost cause while worrying about things such as racism, the war on Iraq, pressuring kids to succeed, technology, the elections, inflation, or worrying if they'll be next to end up on the streets.<br /><br />But what if you were given a bet to live on the streets for a month without the luxuries you once had from a home, the entertainment sets, a bathroom, pictures on the wall, a computer, and everything you once treasure to see what it's like to be homeless? That is Goddard Bolt's lesson.<br /><br />Mel Brooks (who directs) who stars as Bolt plays a rich man who has everything in the world until deciding to make a bet with a sissy rival (Jeffery Tambor) to see if he can live in the streets for thirty days without the luxuries; if Bolt succeeds, he can do what he wants with a future project of making more buildings. The bet's on where Bolt is thrown on the street with a bracelet on his leg to monitor his every move where he can't step off the sidewalk. He's given the nickname Pepto by a vagrant after it's written on his forehead where Bolt meets other characters including a woman by the name of Molly (Lesley Ann Warren) an ex-dancer who got divorce before losing her home, and her pals Sailor (Howard Morris) and Fumes (Teddy Wilson) who are already used to the streets. They're survivors. Bolt isn't. He's not used to reaching mutual agreements like he once did when being rich where it's fight or flight, kill or be killed.<br /><br />While the love connection between Molly and Bolt wasn't necessary to plot, I found \"Life Stinks\" to be one of Mel Brooks' observant films where prior to being a comedy, it shows a tender side compared to his slapstick work such as Blazing Saddles, Young Frankenstein, or Spaceballs for the matter, to show what it's like having something valuable before losing it the next day or on the other hand making a stupid bet like all rich people do when they don't know what to do with their money. Maybe they should give it to the homeless instead of using it like Monopoly money.<br /><br />Or maybe this film will inspire you to help others.\n",
            "This isn't the comedic Robin Williams, nor is it the quirky/insane Robin Williams of recent thriller fame. This is a hybrid of the classic drama without over-dramatization, mixed with Robin's new love of the thriller. But this isn't a thriller, per se. This is more a mystery/suspense vehicle through which Williams attempts to locate a sick boy and his keeper.<br /><br />Also starring Sandra Oh and Rory Culkin, this Suspense Drama plays pretty much like a news report, until William's character gets close to achieving his goal.<br /><br />I must say that I was highly entertained, though this movie fails to teach, guide, inspect, or amuse. It felt more like I was watching a guy (Williams), as he was actually performing the actions, from a third person perspective. In other words, it felt real, and I was able to subscribe to the premise of the story.<br /><br />All in all, it's worth a watch, though it's definitely not Friday/Saturday night fare.<br /><br />It rates a 7.7/10 from...<br /><br />the Fiend :.\n",
            "Yes its an art... to successfully make a slow paced thriller.<br /><br />The story unfolds in nice volumes while you don't even notice it happening.<br /><br />Fine performance by Robin Williams. The sexuality angles in the film can seem unnecessary and can probably affect how much you enjoy the film. However, the core plot is very engaging. The movie doesn't rush onto you and still grips you enough to keep you wondering. The direction is good. Use of lights to achieve desired affects of suspense and unexpectedness is good.<br /><br />Very nice 1 time watch if you are looking to lay back and hear a thrilling short story!\n",
            "In this \"critically acclaimed psychological thriller based on true events, Gabriel (Robin Williams), a celebrated writer and late-night talk show host, becomes captivated by the harrowing story of a young listener and his adoptive mother (Toni Collette). When troubling questions arise about this boy's (story), however, Gabriel finds himself drawn into a widening mystery that hides a deadly secret\" according to film's official synopsis.<br /><br />You really should STOP reading these comments, and watch the film NOW...<br /><br />The \"How did he lose his leg?\" ending, with Ms. Collette planning her new life, should be chopped off, and sent to \"deleted scenes\" land. It's overkill. The true nature of her physical and mental ailments should be obvious, by the time Mr. Williams returns to New York. Possibly, her blindness could be in question - but a revelation could have be made certain in either the \"highway\" or \"video tape\" scenes. The film would benefit from a re-editing - how about a \"director's cut\"? <br /><br />Williams and Bobby Cannavale (as Jess) don't seem, initially, believable as a couple. A scene or two establishing their relationship might have helped set the stage. Otherwise, the cast is exemplary. Williams offers an exceptionally strong characterization, and not a \"gay impersonation\". Sandra Oh (as Anna), Joe Morton (as Ashe), and Rory Culkin (Pete Logand) are all perfect.<br /><br />Best of all, Collette's \"Donna\" belongs in the creepy hall of fame. Ms. Oh is correct in saying Collette might be, \"you know, like that guy from 'Psycho'.\" There have been several years when organizations giving acting awards seemed to reach for women, due to a slighter dispersion of roles; certainly, they could have noticed Collette with some award consideration. She is that good. And, director Patrick Stettner definitely evokes Hitchcock - he even makes getting a sandwich from a vending machine suspenseful.<br /><br />Finally, writers Stettner, Armistead Maupin, and Terry Anderson deserve gratitude from flight attendants everywhere.<br /><br />******* The Night Listener (1/21/06) Patrick Stettner ~ Robin Williams, Toni Collette, Sandra Oh, Rory Culkin\n",
            "THE NIGHT LISTENER (2006) **1/2 Robin Williams, Toni Collette, Bobby Cannavale, Rory Culkin, Joe Morton, Sandra Oh, John Cullum, Lisa Emery, Becky Ann Baker. (Dir: Patrick Stettner) <br /><br />Hitchcockian suspenser gives Williams a stand-out low-key performance.<br /><br />What is it about celebrities and fans? What is the near paranoia one associates with the other and why is it almost the norm? <br /><br />In the latest derange fan scenario, based on true events no less, Williams stars as a talk-radio personality named Gabriel No one, who reads stories he's penned over the airwaves and has accumulated an interesting fan in the form of a young boy named Pete Logand (Culkin) who has submitted a manuscript about the travails of his troubled youth to No one's editor Ashe (Morton) who gives it to No one to read for himself. <br /><br />No one is naturally disturbed but ultimately intrigued about the nightmarish existence of Pete being abducted and sexually abused for years until he was finally rescued by a nurse named Donna (Collette giving an excellent performance) who has adopted the boy but her correspondence with No one reveals that Pete is dying from AIDS. Naturally No one wants to meet the fans but is suddenly in doubt to their possibly devious ulterior motives when the seed is planted by his estranged lover Jess (Cannavale) whose sudden departure from their New York City apartment has No one in an emotional tailspin that has only now grown into a tempest in a teacup when he decides to do some investigating into Donna and Pete's backgrounds discovering some truths that he didn't anticipate.<br /><br />Written by Armistead Maupin (who co-wrote the screenplay with his former lover Terry Anderson and the film's novice director Stettner) and based on a true story about a fan's hoax found out has some Hitchcockian moments that run on full tilt like any good old fashioned pot-boiler does. It helps that Williams gives a stand-out, low-key performance as the conflicted good-hearted personality who genuinely wants to believe that his number one fan is in fact real and does love him (the one thing that has escaped his own reality) and has some unsettling dreadful moments with the creepy Collette whose one physical trait I will leave unmentioned but underlines the desperation of her character that can rattle you to the core.<br /><br />However the film runs out of gas and eventually becomes a bit repetitive and predictable despite a finely directed piece of hoodwink and mystery by Stettner, it pays to listen to your own inner voice: be careful of what you hope for.\n",
            "You know, Robin Williams, God bless him, is constantly shooting himself in the foot lately with all these dumb comedies he has done this decade (with perhaps the exception of \"Death To Smoochy\", which bombed when it came out but is now a cult classic). The dramas he has made lately have been fantastic, especially \"Insomnia\" and \"One Hour Photo\". \"The Night Listener\", despite mediocre reviews and a quick DVD release, is among his best work, period.<br /><br />This is a very chilling story, even though it doesn't include a serial killer or anyone that physically dangerous for that matter. The concept of the film is based on an actual case of fraud that still has yet to be officially confirmed. In high school, I read an autobiography by a child named Anthony Godby Johnson, who suffered horrific abuse and eventually contracted AIDS as a result. I was moved by the story until I read reports online that Johnson may not actually exist. When I saw this movie, the confused feelings that Robin Williams so brilliantly portrayed resurfaced in my mind.<br /><br />Toni Collette probably gives her best dramatic performance too as the ultimately sociopathic \"caretaker\". Her role was a far cry from those she had in movies like \"Little Miss Sunshine\". There were even times she looked into the camera where I thought she was staring right at me. It takes a good actress to play that sort of role, and it's this understated (yet well reviewed) role that makes Toni Collette probably one of the best actresses of this generation not to have even been nominated for an Academy Award (as of 2008). It's incredible that there is at least one woman in this world who is like this, and it's scary too.<br /><br />This is a good, dark film that I highly recommend. Be prepared to be unsettled, though, because this movie leaves you with a strange feeling at the end.\n",
            "When I first read Armistead Maupins story I was taken in by the human drama displayed by Gabriel No one and those he cares about and loves. That being said, we have now been given the film version of an excellent story and are expected to see past the gloss of Hollywood...<br /><br />Writer Armistead Maupin and director Patrick Stettner have truly succeeded! <br /><br />With just the right amount of restraint Robin Williams captures the fragile essence of Gabriel and lets us see his struggle with issues of trust both in his personnel life(Jess) and the world around him(Donna).<br /><br />As we are introduced to the players in this drama we are reminded that nothing is ever as it seems and that the smallest event can change our lives irrevocably. The request to review a book written by a young man turns into a life changing event that helps Gabriel find the strength within himself to carry on and move forward.<br /><br />It's to bad that most people will avoid this film. I only say that because the average American will probably think \"Robin Williams in a serious role? That didn't work before!\" PLEASE GIVE THIS MOVIE A CHANCE! Robin Williams touches the darkness we all must find and go through in ourselves to be better people. Like his movie One Hour Photo he has stepped up as an actor and made another quality piece of art.<br /><br />Oh and before I forget, I believe Bobby Cannavale as Jess steals every scene he is in. He has the 1940's leading man looks and screen presence. It's this hacks opinion he could carry his own movie right now!!<br /><br />S~\n",
            "I liked the film. Some of the action scenes were very interesting, tense and well done. I especially liked the opening scene which had a semi truck in it. A very tense action scene that seemed well done.<br /><br />Some of the transitional scenes were filmed in interesting ways such as time lapse photography, unusual colors, or interesting angles. Also the film is funny is several parts. I also liked how the evil guy was portrayed too. I'd give the film an 8 out of 10.\n",
            "I enjoyed The Night Listener very much. It's one of the better movies of the summer.<br /><br />Robin Williams gives one of his best performances. In fact, the entire cast was very good. All played just the right notes for their characters - not too much and not too little. Sandra Oh adds a wonderful comic touch. Toni Collette is great as the Mom, and never goes over the top. Everyone is very believable.<br /><br />It's a short movie, just under an hour and a half. I noticed the general release version is nine minutes shorter than the Sundance version. I wonder if some of the more disturbing images were cut from the movie.<br /><br />The director told a story and did it in straightforward fashion, which is a refreshing change from many directors these days who seem to think their job is to impress the audience rather than tell a story and tell it well.<br /><br />Do not be sucker punched by the previews and ads. It is not a Hitchcockian thriller. See The Night Listener because you want to see a good story told well. If you go expecting Hitchcock you will be disappointed.<br /><br />My only complaint with the movie was the ending. The director could have left a little more to the audience's imagination, but this is a minor quibble.\n",
            "The Night Listener held my attention, with Robin Williams shining as a New York City radio host who becomes enamored with his friendship with a 14 year old boy (Rory Culkin) who is very ill. Williams has never met the boy in person, as they have only been in contact by talking on the telephone. However, Williams' ex-boyfriend (nice job from Bobby Cannavale) raises doubt about the boy, which prompts Williams to arrange a meeting with him in person. What follows makes a permanent impact on Williams in a way he does not expect. I will leave it at that. Toni Collette also stars.<br /><br />I enjoyed this film, with Toni Collette giving a memorable portrayal of Culkin's adoptive mother. Sandra Oh also starred as Williams' friend. The Night Listener is inspired by actual events, and it has a somber, almost creepy silence throughout. At times it is predictable, no thanks to some of the reviews I read before seeing the movie and just due to logic, but I liked it anyway. I enjoy Williams in roles like this, more so than his comedic characters so that was an added bonus for me. Recommended. 8/10\n"
          ]
        }
      ],
      "source": [
        "LINE_BREAK = '<br />'\n",
        "\n",
        "count = 10\n",
        "for text in train_pos_text:\n",
        "    if LINE_BREAK in text:\n",
        "        print(text)\n",
        "        count -= 1\n",
        "        if count == 0:\n",
        "            break"
      ]
    },
    {
      "attachments": {},
      "cell_type": "markdown",
      "metadata": {
        "id": "O_Hq4YYIKJtq"
      },
      "source": [
        "Count the line break tags"
      ]
    },
    {
      "cell_type": "code",
      "execution_count": 13,
      "metadata": {
        "id": "Exg934nlKZK3"
      },
      "outputs": [],
      "source": [
        "def count_line_break_usage(reviews):\n",
        "    count = 0\n",
        "    for i, t in enumerate(reviews):\n",
        "        if LINE_BREAK in t:\n",
        "            count += 1\n",
        "    return count"
      ]
    },
    {
      "cell_type": "code",
      "execution_count": 14,
      "metadata": {
        "colab": {
          "base_uri": "https://localhost:8080/",
          "height": 0
        },
        "id": "P8pRAvweKZK3",
        "outputId": "9960079b-8c8d-4cc8-d73b-2b7d659c5a0e"
      },
      "outputs": [
        {
          "name": "stdout",
          "output_type": "stream",
          "text": [
            "7156 7509 7114 7421\n"
          ]
        }
      ],
      "source": [
        "print(count_line_break_usage(train_pos_text),\n",
        "      count_line_break_usage(train_neg_text),\n",
        "      count_line_break_usage(test_pos_text),\n",
        "      count_line_break_usage(test_neg_text))"
      ]
    },
    {
      "attachments": {},
      "cell_type": "markdown",
      "metadata": {
        "id": "8WUlZKzuKZK4"
      },
      "source": [
        "We will remove them because they do not carry any sentiment"
      ]
    },
    {
      "cell_type": "code",
      "execution_count": 15,
      "metadata": {
        "id": "-PoPdtNgKZK4"
      },
      "outputs": [],
      "source": [
        "train_pos_text = [text.replace(LINE_BREAK, ' ') for text in train_pos_text]\n",
        "train_neg_text = [text.replace(LINE_BREAK, ' ') for text in train_neg_text]\n",
        "test_pos_text = [text.replace(LINE_BREAK, ' ') for text in test_pos_text]\n",
        "test_neg_text = [text.replace(LINE_BREAK, ' ') for text in test_neg_text]"
      ]
    },
    {
      "cell_type": "code",
      "execution_count": 16,
      "metadata": {
        "colab": {
          "base_uri": "https://localhost:8080/",
          "height": 0
        },
        "id": "rrO1PBhCKZK4",
        "outputId": "efb37c02-c1e2-46ae-a7ca-fe093291fe84"
      },
      "outputs": [
        {
          "name": "stdout",
          "output_type": "stream",
          "text": [
            "0 0 0 0\n"
          ]
        }
      ],
      "source": [
        "print(count_line_break_usage(train_pos_text),\n",
        "      count_line_break_usage(train_neg_text),\n",
        "      count_line_break_usage(test_pos_text),\n",
        "      count_line_break_usage(test_neg_text))"
      ]
    },
    {
      "attachments": {},
      "cell_type": "markdown",
      "metadata": {
        "id": "_re74ogeKZK4"
      },
      "source": [
        "We will take only a portion of the train reviews"
      ]
    },
    {
      "cell_type": "code",
      "execution_count": 17,
      "metadata": {
        "id": "JHwKHstdtEG9"
      },
      "outputs": [],
      "source": [
        "random.seed(42)\n",
        "lm_train_text = random.sample(train_pos_text, config['lm_sample_size']) + \\\n",
        "                random.sample(train_neg_text, config['lm_sample_size'])"
      ]
    },
    {
      "attachments": {},
      "cell_type": "markdown",
      "metadata": {
        "id": "-pTkz1BmKjc4"
      },
      "source": [
        "We will count sentences and tokens"
      ]
    },
    {
      "cell_type": "code",
      "execution_count": 18,
      "metadata": {
        "id": "BmUwMLMzKZK4"
      },
      "outputs": [],
      "source": [
        "num_sentences = 0\n",
        "sent_sizes = []\n",
        "lm_vocab = {}\n",
        "\n",
        "for review in lm_train_text:\n",
        "    sentences = sent_tokenize(review)\n",
        "    num_sentences += len(sentences)\n",
        "\n",
        "    for sent in sentences:\n",
        "        words = word_tokenize(sent)\n",
        "        sent_sizes.append(len(words))\n",
        "\n",
        "        for word in words:\n",
        "            if word not in lm_vocab:\n",
        "                lm_vocab[word] = 0\n",
        "            lm_vocab[word] += 1"
      ]
    },
    {
      "cell_type": "code",
      "execution_count": 19,
      "metadata": {
        "colab": {
          "base_uri": "https://localhost:8080/",
          "height": 0
        },
        "id": "-chJgxhjw6Cy",
        "outputId": "0f5fa9dd-6767-4f6b-b5cb-c02172da6a02"
      },
      "outputs": [
        {
          "data": {
            "text/plain": [
              "(109823, 5371144)"
            ]
          },
          "execution_count": 19,
          "metadata": {},
          "output_type": "execute_result"
        }
      ],
      "source": [
        "lm_vocab_size = len(lm_vocab)\n",
        "lm_num_tokens = sum(lm_vocab.values())\n",
        "lm_vocab_size, lm_num_tokens"
      ]
    },
    {
      "attachments": {},
      "cell_type": "markdown",
      "metadata": {
        "id": "rqcwNXejw6Cy"
      },
      "source": [
        "We will not use all of the tokens, only the most common ones"
      ]
    },
    {
      "cell_type": "code",
      "execution_count": 20,
      "metadata": {
        "colab": {
          "base_uri": "https://localhost:8080/",
          "height": 0
        },
        "id": "prMWtcVzw6Cy",
        "outputId": "c76cacbc-5948-4ee3-cfa0-8197ce08281a"
      },
      "outputs": [
        {
          "name": "stdout",
          "output_type": "stream",
          "text": [
            "A vocab with size 10000 will cover about 93.55% of the data.\n",
            "A vocab with size 15000 will cover about 95.42% of the data.\n",
            "A vocab with size 20000 will cover about 96.67% of the data.\n",
            "A vocab with size 25000 will cover about 97.18% of the data.\n",
            "A vocab with size 30000 will cover about 97.76% of the data.\n",
            "A vocab with size 35000 will cover about 98.11% of the data.\n",
            "A vocab with size 40000 will cover about 98.50% of the data.\n",
            "A vocab with size 45000 will cover about 99.00% of the data.\n",
            "A vocab with size 50000 will cover about 99.00% of the data.\n"
          ]
        }
      ],
      "source": [
        "for size in range(10000, 50001, 5000):   \n",
        "    # Calc least common type in reduced vocab\n",
        "    min_type_count = np.percentile(list(lm_vocab.values()), \n",
        "                                   100 * (1 - size / lm_vocab_size), \n",
        "                                   method='higher')\n",
        "\n",
        "    # Select most common types\n",
        "    counts = np.array(list(lm_vocab.values()))\n",
        "    num_top_n_tokens = sum(counts[counts >= min_type_count]) \n",
        "\n",
        "    print(f\"A vocab with size {size} will cover about {100 * num_top_n_tokens / sum(lm_vocab.values()):.2f}% of the data.\")"
      ]
    },
    {
      "attachments": {},
      "cell_type": "markdown",
      "metadata": {
        "id": "2aeb4mgAw6Cy"
      },
      "source": [
        "We will reduce the full vocabulary, to only learn representations of most common tokens"
      ]
    },
    {
      "cell_type": "code",
      "execution_count": 21,
      "metadata": {
        "id": "mEdlLNpbw6Cz"
      },
      "outputs": [],
      "source": [
        "def reduce_vocab(vocab, top_n):\n",
        "    desired_percentile = 100 * (1 - top_n / len(vocab))\n",
        "    min_token_freq = np.percentile(list(vocab.values()), desired_percentile, method='higher')\n",
        "\n",
        "    freqs = np.array(list(vocab.values()))\n",
        "    tokens = np.array(list(vocab.keys()))\n",
        "\n",
        "    new_token_locations = freqs >= min_token_freq\n",
        "    new_freqs = freqs[new_token_locations]\n",
        "    new_tokens = tokens[new_token_locations]\n",
        "\n",
        "    return {tok: freq for tok, freq in zip(new_tokens, new_freqs)}"
      ]
    },
    {
      "cell_type": "code",
      "execution_count": 22,
      "metadata": {
        "colab": {
          "base_uri": "https://localhost:8080/",
          "height": 0
        },
        "id": "LdEEmFrbw6Cz",
        "outputId": "be280971-15b3-4dec-a1cd-f6917497519c"
      },
      "outputs": [
        {
          "data": {
            "text/plain": [
              "15376"
            ]
          },
          "execution_count": 22,
          "metadata": {},
          "output_type": "execute_result"
        }
      ],
      "source": [
        "reduced_vocab = reduce_vocab(lm_vocab, top_n=config[\"lm_vocab_size\"]) if config[\"lm_vocab_size\"] else lm_vocab\n",
        "len(reduced_vocab)"
      ]
    },
    {
      "attachments": {},
      "cell_type": "markdown",
      "metadata": {
        "id": "d6ctAo7kw6Cz"
      },
      "source": [
        "We will plot the token distribution, only of tokens from our reduced vocabulary"
      ]
    },
    {
      "cell_type": "code",
      "execution_count": 23,
      "metadata": {
        "id": "2GaeE8csw6Cz"
      },
      "outputs": [],
      "source": [
        "def plot_bar(data, title):    \n",
        "    plt.bar(np.arange(len(data)), height=data)\n",
        "    plt.title(title)"
      ]
    },
    {
      "cell_type": "code",
      "execution_count": 24,
      "metadata": {
        "colab": {
          "base_uri": "https://localhost:8080/",
          "height": 452
        },
        "id": "zg1uxvY6w6Cz",
        "outputId": "0cabf39b-f2d7-4dc7-83a0-5ce8c2de9348"
      },
      "outputs": [
        {
          "data": {
            "image/png": "[encoded data removed]",
            "text/plain": [
              "<Figure size 640x480 with 1 Axes>"
            ]
          },
          "metadata": {},
          "output_type": "display_data"
        }
      ],
      "source": [
        "word_dist_reduced_vocab = sorted(list(reduced_vocab.values()), reverse=True)\n",
        "plot_bar(np.log(word_dist_reduced_vocab), (f\"Log word distribution - reduced vocab \"\n",
        "                                           f\"[{np.log(min(word_dist_reduced_vocab)):.2f}, {np.log(max(word_dist_reduced_vocab)):.2f}]\"))"
      ]
    },
    {
      "attachments": {},
      "cell_type": "markdown",
      "metadata": {
        "id": "6MPf234iw6Cz"
      },
      "source": [
        "We have some long sentences, and we may want to consider a maximum sequence length"
      ]
    },
    {
      "cell_type": "code",
      "execution_count": 25,
      "metadata": {
        "id": "BpY4TYbCw6Cz"
      },
      "outputs": [],
      "source": [
        "def plot_histogram(data, title):\n",
        "    min_ = min(data)\n",
        "    max_ = max(data) + 1\n",
        "    \n",
        "    plt.hist(data, np.arange(min_, max_ + 1, 1))    \n",
        "    plt.title(title)"
      ]
    },
    {
      "cell_type": "code",
      "execution_count": 26,
      "metadata": {
        "colab": {
          "base_uri": "https://localhost:8080/",
          "height": 452
        },
        "id": "4DgDZerQw6C0",
        "outputId": "52e02b0c-480a-4a19-e4ce-35af214d6f09"
      },
      "outputs": [
        {
          "data": {
            "image/png": "[encoded data removed]",
            "text/plain": [
              "<Figure size 640x480 with 1 Axes>"
            ]
          },
          "metadata": {},
          "output_type": "display_data"
        }
      ],
      "source": [
        "plot_histogram(sent_sizes, f\"Sentence Lengths [{min(sent_sizes)} to {max(sent_sizes)}]\")"
      ]
    },
    {
      "cell_type": "code",
      "execution_count": 27,
      "metadata": {
        "colab": {
          "base_uri": "https://localhost:8080/",
          "height": 0
        },
        "id": "ZB6hVnpkw6C0",
        "outputId": "33e3c0a4-183e-4ff4-f6cb-a6e9f51c63f9"
      },
      "outputs": [
        {
          "name": "stdout",
          "output_type": "stream",
          "text": [
            "The oversized sentences (10+ words) are about 78.54% of all sentences\n",
            "The oversized sentences (20+ words) are about 43.97% of all sentences\n",
            "The oversized sentences (30+ words) are about 19.91% of all sentences\n",
            "The oversized sentences (40+ words) are about 8.61% of all sentences\n",
            "The oversized sentences (50+ words) are about 3.87% of all sentences\n",
            "The oversized sentences (60+ words) are about 1.89% of all sentences\n",
            "The oversized sentences (70+ words) are about 1.03% of all sentences\n",
            "The oversized sentences (80+ words) are about 0.61% of all sentences\n",
            "The oversized sentences (90+ words) are about 0.38% of all sentences\n",
            "The oversized sentences (100+ words) are about 0.26% of all sentences\n"
          ]
        }
      ],
      "source": [
        "sent_sizes = np.array(sent_sizes)\n",
        "\n",
        "for size in range(10, 101, 10):\n",
        "    print(f\"The oversized sentences ({size}+ words) are about {100* (sent_sizes > size).sum() / num_sentences:.2f}% of all sentences\")"
      ]
    },
    {
      "attachments": {},
      "cell_type": "markdown",
      "metadata": {
        "id": "HbOtr-9DKZK6"
      },
      "source": [
        "### 1.2 Dataset & Dataloader"
      ]
    },
    {
      "attachments": {},
      "cell_type": "markdown",
      "metadata": {
        "id": "CK7vgqsCw6C5"
      },
      "source": [
        "We will add a START, END, UNKNOWN tokens to our vocabulary to help our language model to detect a beginning of a sentence, an end of a sentence and an unknown token"
      ]
    },
    {
      "cell_type": "code",
      "execution_count": 28,
      "metadata": {
        "id": "8vj8_rUFw6C5"
      },
      "outputs": [],
      "source": [
        "START_TOKEN = '<START>'\n",
        "END_TOKEN = '<END>'\n",
        "UNKNOWN_TOKEN = '<UNKNOWN>'\n",
        "\n",
        "token2id = {tok: i for i, tok in enumerate(reduced_vocab.keys())}\n",
        "id2token = {i: tok for tok, i in token2id.items()}\n",
        "\n",
        "UNKNOWN_ID = max(token2id.values()) + 1\n",
        "START_ID = max(token2id.values()) + 2\n",
        "END_ID = max(token2id.values()) + 3\n",
        "\n",
        "token2id |= {\n",
        "    UNKNOWN_TOKEN: UNKNOWN_ID,\n",
        "    START_TOKEN: START_ID,\n",
        "    END_TOKEN: END_ID\n",
        "}\n",
        "id2token |= {\n",
        "    UNKNOWN_ID: UNKNOWN_TOKEN,\n",
        "    START_ID: START_TOKEN,\n",
        "    END_ID: END_TOKEN\n",
        "}"
      ]
    },
    {
      "attachments": {},
      "cell_type": "markdown",
      "metadata": {
        "id": "ZYHvNgZnL4op"
      },
      "source": [
        "We will define a class for the Language Model dataset, that will take different sentences from the IMDB reviews and extract data samples from each sentence."
      ]
    },
    {
      "cell_type": "code",
      "execution_count": null,
      "metadata": {
        "id": "wycalz2uKZK6"
      },
      "outputs": [],
      "source": [
        "class LanguageModelDataset(Dataset):\n",
        "    def __init__(self, texts, token2id, max_sequence_len):        \n",
        "        self.X = []\n",
        "        self.y = []\n",
        "\n",
        "        # Convert texts to tokens, and then to samples\n",
        "        for text in texts:\n",
        "            for sent in sent_tokenize(text):\n",
        "                tokens = [START_TOKEN, *word_tokenize(sent), END_TOKEN]\n",
        "\n",
        "                for i, ti in enumerate(tokens[1:], start=1):\n",
        "                    self.X.append([token2id.get(t, UNKNOWN_ID) for t in tokens[max(0, i - max_sequence_len):i]])\n",
        "                    self.y.append(token2id.get(ti, UNKNOWN_ID))\n",
        "\n",
        "    def __getitem__(self, i):\n",
        "        return self.X[i], self.y[i]\n",
        "\n",
        "    def __len__(self):\n",
        "        return len(self.y)"
      ]
    },
    {
      "attachments": {},
      "cell_type": "markdown",
      "metadata": {
        "id": "ZJto-W8VMFhc"
      },
      "source": [
        "We will create a train-set, a validation-set and a test-set, and print some of the samples to show their structure"
      ]
    },
    {
      "cell_type": "code",
      "execution_count": null,
      "metadata": {
        "colab": {
          "base_uri": "https://localhost:8080/"
        },
        "id": "sSLY_Axyw6C6",
        "outputId": "e276e575-8d4f-4911-efc5-23ac0a71d82d"
      },
      "outputs": [
        {
          "data": {
            "text/plain": [
              "(4214166, 1407206, 6849590)"
            ]
          },
          "execution_count": 31,
          "metadata": {},
          "output_type": "execute_result"
        }
      ],
      "source": [
        "# Dataset input texts\n",
        "lm_train_text, lm_val_text = train_test_split(lm_train_text, test_size=config['val_size'], shuffle=True, random_state=42)\n",
        "lm_test_text = test_pos_text + test_neg_text\n",
        "\n",
        "# Datasets\n",
        "lm_train_ds = LanguageModelDataset(lm_train_text, token2id, config['lm_max_sequence_len'])\n",
        "lm_val_ds = LanguageModelDataset(lm_val_text, token2id, config['lm_max_sequence_len'])\n",
        "lm_test_ds = LanguageModelDataset(lm_test_text, token2id, config['lm_max_sequence_len'])\n",
        "\n",
        "len(lm_train_ds), len(lm_val_ds), len(lm_test_ds)"
      ]
    },
    {
      "cell_type": "code",
      "execution_count": null,
      "metadata": {
        "colab": {
          "base_uri": "https://localhost:8080/"
        },
        "id": "0qWht-EtKZK7",
        "outputId": "7974ec4c-ba0d-4628-936d-07f5ec5926a3"
      },
      "outputs": [
        {
          "name": "stdout",
          "output_type": "stream",
          "text": [
            "[15377] 363\n",
            "[15377, 363] 3411\n",
            "[15377, 363, 3411] 38\n",
            "[15377, 363, 3411, 38] 15376\n",
            "[15377, 363, 3411, 38, 15376] 11653\n",
            "[15377, 363, 3411, 38, 15376, 11653] 3417\n",
            "[15377, 363, 3411, 38, 15376, 11653, 3417] 5367\n",
            "[15377, 363, 3411, 38, 15376, 11653, 3417, 5367] 89\n",
            "[15377, 363, 3411, 38, 15376, 11653, 3417, 5367, 89] 1630\n",
            "[15377, 363, 3411, 38, 15376, 11653, 3417, 5367, 89, 1630] 76\n"
          ]
        }
      ],
      "source": [
        "for i in range(10):\n",
        "    x, y = lm_train_ds[i]\n",
        "    print(x, y)"
      ]
    },
    {
      "attachments": {},
      "cell_type": "markdown",
      "metadata": {
        "id": "oRIcpH9RMTIM"
      },
      "source": [
        "We will create a train-loader, a validation-loader and a test-loader instances using our custom collate function to help our dataloaders deal with variable length sequences"
      ]
    },
    {
      "cell_type": "code",
      "execution_count": 29,
      "metadata": {
        "id": "PoctbareKZK7"
      },
      "outputs": [],
      "source": [
        "def my_collate_fn(batch):\n",
        "    features = pack_sequence([torch.tensor(sample[0], dtype=torch.long) for sample in batch], enforce_sorted=False)\n",
        "    labels = torch.tensor([sample[1] for sample in batch], dtype=torch.long)\n",
        "    return features, labels"
      ]
    },
    {
      "cell_type": "code",
      "execution_count": null,
      "metadata": {
        "colab": {
          "base_uri": "https://localhost:8080/"
        },
        "id": "lxs1ON62KZK7",
        "outputId": "1e168b51-13a2-42da-f58b-f98c0a6b3072"
      },
      "outputs": [
        {
          "data": {
            "text/plain": [
              "(16462, 5497, 26757)"
            ]
          },
          "execution_count": 34,
          "metadata": {},
          "output_type": "execute_result"
        }
      ],
      "source": [
        "lm_train_dl = DataLoader(lm_train_ds, batch_size=config['lm_batch_size'], shuffle=True, collate_fn=my_collate_fn)\n",
        "lm_val_dl = DataLoader(lm_val_ds, batch_size=config['lm_batch_size'], shuffle=True, collate_fn=my_collate_fn)\n",
        "lm_test_dl = DataLoader(lm_test_ds, batch_size=config['lm_batch_size'], shuffle=False, collate_fn=my_collate_fn)\n",
        "\n",
        "len(lm_train_dl), len(lm_val_dl), len(lm_test_dl)"
      ]
    },
    {
      "attachments": {},
      "cell_type": "markdown",
      "metadata": {
        "id": "qd9NW6F4KZK7"
      },
      "source": [
        "### 1.3 Model "
      ]
    },
    {
      "attachments": {},
      "cell_type": "markdown",
      "metadata": {
        "id": "zxcX4EVWw6C6"
      },
      "source": [
        "#### 1.3.1 Definition"
      ]
    },
    {
      "attachments": {},
      "cell_type": "markdown",
      "metadata": {
        "id": "fIo-_T5LMnwE"
      },
      "source": [
        "We will define a Sentence Encoder class that will later help us to train a different model for a downstream classification task"
      ]
    },
    {
      "cell_type": "code",
      "execution_count": null,
      "metadata": {
        "id": "vd8GrQsNw6C7"
      },
      "outputs": [],
      "source": [
        "class SentenceEncoder(nn.Module):\n",
        "    def __init__(self, vocab_size, embedding_dim, hidden_dim, num_layers=1):\n",
        "        super().__init__()\n",
        "\n",
        "        self.num_layers = num_layers\n",
        "        self.hidden_dim = hidden_dim\n",
        "\n",
        "        # Architecture\n",
        "        self.embedding = nn.Embedding(num_embeddings=vocab_size, embedding_dim=embedding_dim)\n",
        "        self.lstm = nn.LSTM(input_size=embedding_dim, hidden_size=hidden_dim, num_layers=num_layers)\n",
        "\n",
        "    def forward(self, x):\n",
        "\n",
        "        # Select embeddings\n",
        "        unpacked_x = unpack_sequence(x)\n",
        "        batch_size = len(unpacked_x)\n",
        "        embeddings = [self.embedding(sample) for sample in unpacked_x]\n",
        "        packed_embeddings = pack_sequence(embeddings, enforce_sorted=False)\n",
        "\n",
        "        # Forward LSTM\n",
        "        output, (h_n, c_n) = self.lstm(packed_embeddings)\n",
        "\n",
        "        return torch.transpose(c_n, 0, 1).reshape(batch_size, -1)"
      ]
    },
    {
      "attachments": {},
      "cell_type": "markdown",
      "metadata": {
        "id": "56RKWMY5M6Ua"
      },
      "source": [
        "We will define a class for the Language Model"
      ]
    },
    {
      "cell_type": "code",
      "execution_count": null,
      "metadata": {
        "id": "9FnOuAbGKZK7"
      },
      "outputs": [],
      "source": [
        "class LanguageModel(nn.Module):\n",
        "    def __init__(self, vocab_size, embedding_dim, hidden_dim, num_layers=1):\n",
        "        super().__init__()\n",
        "\n",
        "        # Architecture\n",
        "        self.sentence_encoder = SentenceEncoder(vocab_size, embedding_dim, hidden_dim, num_layers)\n",
        "\n",
        "        middle_dim = int(vocab_size**0.35 * (hidden_dim * num_layers)**0.65)\n",
        "        self.fc1 = nn.Linear(in_features=hidden_dim * num_layers, out_features=middle_dim)\n",
        "        self.relu6 = nn.ReLU6()\n",
        "        self.fc2 = nn.Linear(in_features=middle_dim, out_features=vocab_size)\n",
        "\n",
        "    def forward(self, x):\n",
        "\n",
        "        # Feature extractor\n",
        "        sentence_features = self.sentence_encoder(x)\n",
        "\n",
        "        # Forward Fully-Connected\n",
        "        pred = self.fc1(sentence_features)\n",
        "        pred = self.relu6(pred)\n",
        "        pred = self.fc2(pred)\n",
        "\n",
        "        return pred"
      ]
    },
    {
      "attachments": {},
      "cell_type": "markdown",
      "metadata": {
        "id": "-CsPUE1pw6C7"
      },
      "source": [
        "#### 1.3.2 Training"
      ]
    },
    {
      "attachments": {},
      "cell_type": "markdown",
      "metadata": {
        "id": "ENbbJj4IM9rW"
      },
      "source": [
        "We will define a class that will help us automate the process of training & validation our model, evaluating it, saving some checkpoints, and log the training metrics throughout the training process"
      ]
    },
    {
      "cell_type": "code",
      "execution_count": 30,
      "metadata": {
        "id": "gOpACVaqFR39"
      },
      "outputs": [],
      "source": [
        "class Logger:\n",
        "    def __init__(self, log_dir):\n",
        "        if os.path.exists(f'runs/{log_dir}'):\n",
        "            shutil.rmtree(f'runs/{log_dir}')\n",
        "        %cd runs \n",
        "        self.writer = SummaryWriter(log_dir)\n",
        "        %cd ..\n",
        "        \n",
        "        self.step_dict = {}\n",
        "    \n",
        "    def __call__(self, main_tag, scalar):\n",
        "        self.step_dict[main_tag] = self.step_dict.get(main_tag, 1)\n",
        "        self.writer.add_scalar(main_tag, scalar, self.step_dict[main_tag])\n",
        "        self.step_dict[main_tag] += 1"
      ]
    },
    {
      "cell_type": "code",
      "execution_count": 31,
      "metadata": {
        "id": "CQP7Yrp3w6C7"
      },
      "outputs": [],
      "source": [
        "class Trainer:\n",
        "    def __init__(self, log_dir):\n",
        "        self.logger = Logger(log_dir)\n",
        "        os.makedirs(f'models/{log_dir}')\n",
        "\n",
        "    def train_batch(self, model, X, y, loss_fn, optimizer):    \n",
        "        model.train()\n",
        "\n",
        "        # Forward & Backward\n",
        "        optimizer.zero_grad()\n",
        "        predictions = model(X)\n",
        "        num_correct = (torch.argmax(predictions, dim=1) == y).sum().item()\n",
        "        loss = loss_fn(predictions, y)\n",
        "        loss.backward()\n",
        "        optimizer.step()\n",
        "\n",
        "        return loss.item(), num_correct\n",
        "\n",
        "    def test_batch(self, model, X, y, loss_fn, optimizer):\n",
        "        model.eval()\n",
        "\n",
        "        with torch.no_grad():\n",
        "\n",
        "            # Forward\n",
        "            predictions = model(X)\n",
        "            num_correct = (torch.argmax(predictions, dim=1) == y).sum().item()\n",
        "            loss = loss_fn(predictions, y)\n",
        "        \n",
        "        return loss.item(), num_correct\n",
        "\n",
        "    def single_epoch(self, model, dataloader, device, batch_fn, loss_fn, optimizer, tag):\n",
        "        epoch_loss = 0.\n",
        "        epoch_num_correct = 0\n",
        "        num_batches = len(dataloader.batch_sampler)\n",
        "        num_samples = len(dataloader.sampler)\n",
        "\n",
        "        # Progress bar\n",
        "        with tqdm(desc=batch_fn.__name__, total=num_batches, file=sys.stdout) as pbar:\n",
        "\n",
        "            # Run batches\n",
        "            for X, y in dataloader:\n",
        "                batch_loss, batch_num_correct = batch_fn(model, X.to(device), y.to(device), loss_fn, optimizer)\n",
        "                epoch_loss += batch_loss\n",
        "                epoch_num_correct += batch_num_correct\n",
        "                \n",
        "                pbar.set_description(f'{tag} ({batch_loss:.3f})')\n",
        "                pbar.update()\n",
        "\n",
        "                self.logger(f\"Loss/{tag}_batch\", batch_loss)\n",
        "                self.logger(f\"Accuracy/{tag}_batch\", batch_num_correct / dataloader.batch_size)\n",
        "            \n",
        "            avg_loss = epoch_loss / num_batches\n",
        "            accuracy = epoch_num_correct / num_samples\n",
        "\n",
        "            pbar.set_description(f'{tag} (Avg. Loss {avg_loss:.3f}, Accuracy {accuracy:.3f})')\n",
        "\n",
        "            self.logger(f\"Loss/{tag}_epoch\", avg_loss)\n",
        "            self.logger(f\"Accuracy/{tag}_epoch\", accuracy)\n",
        "\n",
        "        return avg_loss\n",
        "\n",
        "    def resume(self, model, train_dl, val_dl, device, optimizer, loss_fn, num_epochs, start_epoch, save_every=1):\n",
        "        model.to(device)\n",
        "\n",
        "        train_losses = []\n",
        "        val_losses = []\n",
        "        \n",
        "        for e in range(start_epoch, num_epochs + start_epoch):\n",
        "\n",
        "            print(f\"--------------- epoch {e}/{num_epochs} ---------------\")\n",
        "            train_losses.append(self.single_epoch(model, train_dl, device, self.train_batch, loss_fn, optimizer, \"Train\"))\n",
        "\n",
        "            if (e + 1) % save_every == 0:\n",
        "                torch.save(model, f'models/{self.logger.writer.log_dir}/epc{e}')  \n",
        "\n",
        "            val_losses.append(self.single_epoch(model, val_dl, device, self.test_batch, loss_fn, None, \"Validation\"))\n",
        "\n",
        "        model.to('cpu')\n",
        "\n",
        "        return train_losses, val_losses\n",
        "        \n",
        "    def start(self, model, train_dl, val_dl, device, optimizer, loss_fn, num_epochs, save_every=1):\n",
        "        return self.resume(model, train_dl, val_dl, device, optimizer, loss_fn, num_epochs, 1, save_every)\n",
        "\n",
        "    def evaluate(self, model, test_dl, device, loss_fn):\n",
        "        model.to(device)\n",
        "\n",
        "        test_loss = self.single_epoch(model, test_dl, device, self.test_batch, loss_fn, None, \"Test\")\n",
        "\n",
        "        model.to('cpu')\n",
        "\n",
        "        return test_loss"
      ]
    },
    {
      "attachments": {},
      "cell_type": "markdown",
      "metadata": {
        "id": "ft-TDklBNR2l"
      },
      "source": [
        "We will create our Language Model instance, as well as its name that will help us distinguish between different model runs.\\\n",
        "Then, we will create a Trainer instance to train it, and finally we will plot the results."
      ]
    },
    {
      "cell_type": "code",
      "execution_count": null,
      "metadata": {
        "colab": {
          "base_uri": "https://localhost:8080/"
        },
        "id": "ilBWSWWuKZK8",
        "outputId": "586a9e18-5746-4239-8c2f-8152553c6fe4"
      },
      "outputs": [
        {
          "name": "stdout",
          "output_type": "stream",
          "text": [
            "Name: LM_smp10000_vcb15376_mbd300_hdn600\n",
            "Path: models/LM_smp10000_vcb15376_mbd300_hdn600\n",
            "Model: LanguageModel(\n",
            "  (sentence_encoder): SentenceEncoder(\n",
            "    (embedding): Embedding(15379, 300)\n",
            "    (lstm): LSTM(300, 600)\n",
            "  )\n",
            "  (fc1): Linear(in_features=600, out_features=1867, bias=True)\n",
            "  (relu6): ReLU6()\n",
            "  (fc2): Linear(in_features=1867, out_features=15379, bias=True)\n",
            ")\n"
          ]
        }
      ],
      "source": [
        "lm = LanguageModel(vocab_size=len(token2id), \n",
        "                   embedding_dim=config['lm_embedding_dim'], \n",
        "                   hidden_dim=config['lm_hidden_dim'], \n",
        "                   num_layers=config['lm_num_layers'])\n",
        "lm_name = f\"LM_smp{config['lm_sample_size']}_vcb{len(reduced_vocab)}_mbd{config['lm_embedding_dim']}_hdn{config['lm_hidden_dim']}\"\n",
        "lm_path = f\"models/{lm_name}\"\n",
        "\n",
        "print(f\"Name: {lm_name}\")\n",
        "print(f\"Path: {lm_path}\")\n",
        "print(f\"Model: {lm}\")"
      ]
    },
    {
      "cell_type": "code",
      "execution_count": null,
      "metadata": {
        "colab": {
          "base_uri": "https://localhost:8080/"
        },
        "id": "Y4tO_OVfFR3-",
        "outputId": "4b20da9e-3096-42a5-95c2-0628c5722a91"
      },
      "outputs": [
        {
          "name": "stdout",
          "output_type": "stream",
          "text": [
            "/content/drive/MyDrive/Colab Notebooks/NLP/runs\n",
            "/content/drive/MyDrive/Colab Notebooks/NLP\n"
          ]
        }
      ],
      "source": [
        "lm_trainer = Trainer(lm_name)"
      ]
    },
    {
      "cell_type": "code",
      "execution_count": null,
      "metadata": {
        "colab": {
          "base_uri": "https://localhost:8080/"
        },
        "id": "3K6ZSYXGKZK8",
        "outputId": "ef23e163-ff8a-448d-92df-360ce28b7b7a"
      },
      "outputs": [
        {
          "name": "stdout",
          "output_type": "stream",
          "text": [
            "--------------- epoch 1/10 ---------------\n",
            "Train (Avg. Loss 4.977, Accuracy 0.214): 100%|██████████| 16462/16462 [17:12<00:00, 15.94it/s]\n",
            "Validation (Avg. Loss 4.792, Accuracy 0.228): 100%|██████████| 5497/5497 [02:44<00:00, 33.34it/s]\n",
            "--------------- epoch 2/10 ---------------\n",
            "Train (Avg. Loss 4.591, Accuracy 0.236): 100%|██████████| 16462/16462 [17:08<00:00, 16.01it/s]\n",
            "Validation (Avg. Loss 4.754, Accuracy 0.233): 100%|██████████| 5497/5497 [02:45<00:00, 33.27it/s]\n",
            "--------------- epoch 3/10 ---------------\n",
            "Train (Avg. Loss 4.473, Accuracy 0.243): 100%|██████████| 16462/16462 [17:11<00:00, 15.96it/s]\n",
            "Validation (Avg. Loss 4.787, Accuracy 0.237): 100%|██████████| 5497/5497 [02:45<00:00, 33.13it/s]\n",
            "--------------- epoch 4/10 ---------------\n",
            "Train (Avg. Loss 4.417, Accuracy 0.247): 100%|██████████| 16462/16462 [17:05<00:00, 16.06it/s]\n",
            "Validation (Avg. Loss 4.796, Accuracy 0.239): 100%|██████████| 5497/5497 [02:43<00:00, 33.69it/s]\n",
            "--------------- epoch 5/10 ---------------\n",
            "Train (Avg. Loss 4.386, Accuracy 0.249): 100%|██████████| 16462/16462 [16:55<00:00, 16.21it/s]\n",
            "Validation (Avg. Loss 4.876, Accuracy 0.240): 100%|██████████| 5497/5497 [02:48<00:00, 32.68it/s]\n",
            "--------------- epoch 6/10 ---------------\n",
            "Train (Avg. Loss 4.368, Accuracy 0.251): 100%|██████████| 16462/16462 [17:05<00:00, 16.05it/s]\n",
            "Validation (Avg. Loss 4.898, Accuracy 0.240): 100%|██████████| 5497/5497 [02:43<00:00, 33.56it/s]\n",
            "--------------- epoch 7/10 ---------------\n",
            "Train (Avg. Loss 4.357, Accuracy 0.252): 100%|██████████| 16462/16462 [17:02<00:00, 16.09it/s]\n",
            "Validation (Avg. Loss 4.943, Accuracy 0.241): 100%|██████████| 5497/5497 [02:43<00:00, 33.53it/s]\n",
            "--------------- epoch 8/10 ---------------\n",
            "Train (Avg. Loss 4.352, Accuracy 0.253): 100%|██████████| 16462/16462 [17:05<00:00, 16.05it/s]\n",
            "Validation (Avg. Loss 4.954, Accuracy 0.238): 100%|██████████| 5497/5497 [02:47<00:00, 32.79it/s]\n",
            "--------------- epoch 9/10 ---------------\n",
            "Train (Avg. Loss 4.350, Accuracy 0.254): 100%|██████████| 16462/16462 [17:12<00:00, 15.95it/s]\n",
            "Validation (Avg. Loss 4.954, Accuracy 0.239): 100%|██████████| 5497/5497 [02:45<00:00, 33.30it/s]\n",
            "--------------- epoch 10/10 ---------------\n",
            "Train (Avg. Loss 4.349, Accuracy 0.254): 100%|██████████| 16462/16462 [17:09<00:00, 15.99it/s]\n",
            "Validation (Avg. Loss 4.985, Accuracy 0.238): 100%|██████████| 5497/5497 [02:45<00:00, 33.29it/s]\n"
          ]
        }
      ],
      "source": [
        "lm_train_losses, lm_val_losses = lm_trainer.start(model=lm, \n",
        "                                                  train_dl=lm_train_dl, \n",
        "                                                  val_dl=lm_val_dl, \n",
        "                                                  device=device, \n",
        "                                                  optimizer=torch.optim.Adam(lm.parameters()), \n",
        "                                                  loss_fn=nn.CrossEntropyLoss(), \n",
        "                                                  num_epochs=config['lm_epochs'])"
      ]
    },
    {
      "cell_type": "code",
      "execution_count": 32,
      "metadata": {
        "id": "GKoV6sq3w6C8"
      },
      "outputs": [],
      "source": [
        "def plot_train_results(train_losses, val_losses):\n",
        "    num_epochs = len(train_losses)\n",
        "    epochs = np.arange(1, num_epochs + 1)\n",
        "\n",
        "    # Plot and label the training and validation loss values\n",
        "    plt.plot(epochs, train_losses, label='Training Loss')\n",
        "    plt.plot(epochs, val_losses, label='Validation Loss')\n",
        "    \n",
        "    # Add in a title and axes labels\n",
        "    plt.title('Training and Validation Loss')\n",
        "    plt.xlabel('Epochs')\n",
        "    plt.ylabel('Loss')\n",
        "\n",
        "    plt.legend(loc='best')\n",
        "    plt.show()"
      ]
    },
    {
      "cell_type": "code",
      "execution_count": null,
      "metadata": {
        "colab": {
          "base_uri": "https://localhost:8080/",
          "height": 472
        },
        "id": "pY4M8OG3w6C8",
        "outputId": "95911df5-7bdb-4b25-b2ee-dcd335935691"
      },
      "outputs": [
        {
          "data": {
            "image/png": "[encoded data removed]",
            "text/plain": [
              "<Figure size 640x480 with 1 Axes>"
            ]
          },
          "metadata": {},
          "output_type": "display_data"
        }
      ],
      "source": [
        "plot_train_results(lm_train_losses, lm_val_losses)"
      ]
    },
    {
      "attachments": {},
      "cell_type": "markdown",
      "metadata": {
        "id": "5cBqD1MhKZK9"
      },
      "source": [
        "### 1.4 Evaluation"
      ]
    },
    {
      "attachments": {},
      "cell_type": "markdown",
      "metadata": {
        "id": "WZK1IU82KZK9"
      },
      "source": [
        "#### 1.4.1 Perplexity"
      ]
    },
    {
      "attachments": {},
      "cell_type": "markdown",
      "metadata": {
        "id": "_sF-NUWfNzp0"
      },
      "source": [
        "We will evaluate our Language Model, using the perplexity metric to determine our Language Model's ability to generalize"
      ]
    },
    {
      "cell_type": "code",
      "execution_count": null,
      "metadata": {
        "colab": {
          "base_uri": "https://localhost:8080/"
        },
        "id": "QGp4iveww6C9",
        "outputId": "8331e38e-c067-4dc3-a145-c5a5fcd1d349"
      },
      "outputs": [
        {
          "name": "stdout",
          "output_type": "stream",
          "text": [
            "Test (Avg. Loss 4.894, Accuracy 0.240): 100%|██████████| 26757/26757 [13:00<00:00, 34.26it/s]\n",
            "Test Loss: 4.8936\n",
            "Perplexity: 133.4264\n"
          ]
        }
      ],
      "source": [
        "test_loss = lm_trainer.evaluate(model=lm, \n",
        "                                test_dl=lm_test_dl,\n",
        "                                device=device, \n",
        "                                loss_fn=nn.CrossEntropyLoss())\n",
        "\n",
        "print(f'Test Loss: {test_loss:.4f}')\n",
        "print(f'Perplexity: {np.exp(test_loss):.4f}')"
      ]
    },
    {
      "attachments": {},
      "cell_type": "markdown",
      "metadata": {
        "id": "a3Im7yxEKZLP"
      },
      "source": [
        "## 2 Text Classification"
      ]
    },
    {
      "attachments": {},
      "cell_type": "markdown",
      "metadata": {
        "id": "ws7_OHN-OBcf"
      },
      "source": [
        "Our second task is to define and train 2 different classification models, using the reviews we've collected from the IMDB dataset.\n",
        "1. Language Model Classifier: A model that uses our pre-trained Language Model as a feature extractor.\n",
        "2. GloVe Classifier: A model that uses pre-trained word embeddings (In our case we will use GloVe embeddings).\n",
        "\n",
        "\n"
      ]
    },
    {
      "attachments": {},
      "cell_type": "markdown",
      "metadata": {
        "id": "t8m7k9U5KZLP"
      },
      "source": [
        "### 2.1 Dataset & Dataloader"
      ]
    },
    {
      "attachments": {},
      "cell_type": "markdown",
      "metadata": {
        "id": "TS6mDKRjOzAV"
      },
      "source": [
        "We will define a class for text classification, that will take different reviews IMDB dataset and label them positive (1) or negative (0)."
      ]
    },
    {
      "cell_type": "code",
      "execution_count": 33,
      "metadata": {
        "id": "Mi9dKbb-KZLP"
      },
      "outputs": [],
      "source": [
        "class TextClassificationDataset(Dataset):\n",
        "    def __init__(self, texts, labels, token2id):\n",
        "        \n",
        "        # Build data\n",
        "        self.y = labels\n",
        "        self.X = [\n",
        "            [token2id.get(t, UNKNOWN_ID) for t in word_tokenize(text)]\n",
        "            for text in texts\n",
        "        ]\n",
        "\n",
        "    def __getitem__(self, i):\n",
        "        return self.X[i], self.y[i]\n",
        "\n",
        "    def __len__(self):\n",
        "        return len(self.y)"
      ]
    },
    {
      "attachments": {},
      "cell_type": "markdown",
      "metadata": {
        "id": "f3cvQoGHPpwY"
      },
      "source": [
        "We will create a train-set, a validation-set and a test-set, and print some of the samples to show their structure"
      ]
    },
    {
      "cell_type": "code",
      "execution_count": 34,
      "metadata": {
        "id": "C4m5wjwFKZLP"
      },
      "outputs": [],
      "source": [
        "clf_train_text = train_neg_text + train_pos_text\n",
        "clf_train_rating = [0] * len(train_neg_text) + [1] * len(train_pos_text)\n",
        "clf_train_text, clf_val_text, clf_train_rating, clf_val_rating = train_test_split(clf_train_text, \n",
        "                                                                                  clf_train_rating, \n",
        "                                                                                  test_size=config['val_size'], \n",
        "                                                                                  shuffle=True, \n",
        "                                                                                  random_state=42)\n",
        "clf_test_text = test_neg_text + test_pos_text\n",
        "clf_test_rating = [0] * len(test_neg_text) + [1] * len(test_pos_text)\n",
        "\n",
        "clf_train_ds = TextClassificationDataset(clf_train_text, clf_train_rating, token2id)\n",
        "clf_val_ds = TextClassificationDataset(clf_val_text, clf_val_rating, token2id)\n",
        "clf_test_ds = TextClassificationDataset(clf_test_text, clf_test_rating, token2id)"
      ]
    },
    {
      "cell_type": "code",
      "execution_count": 31,
      "metadata": {
        "colab": {
          "base_uri": "https://localhost:8080/",
          "height": 0
        },
        "id": "Wvcv-m2WKZLP",
        "outputId": "dedcc489-12be-445d-9181-bda471dbbaae"
      },
      "outputs": [
        {
          "name": "stdout",
          "output_type": "stream",
          "text": [
            "18750\n",
            "0 [423, 18, 54, 404, 5855, 49, 14, 74, 805, 152, 515, 72, 6, 891, 443, 12282, 46, 6, 2726, 881, 38, 57, 16, 66, 18, 136, 14, 529, 12282, 2165, 6, 7755, 9, 3236, 9, 6, 13049, 203, 54, 107, 2726, 6885, 4726, 914, 16, 415, 3804, 14, 250, 1580, 76, 1277, 76, 4991, 3461, 38, 57, 801, 9, 520, 38, 118, 147, 82, 225, 11883, 46, 1553, 6550, 14, 258, 1331, 2014, 9, 6, 87, 1818, 79, 12282, 4373, 15376, 22, 1698, 158, 64, 404, 361, 118, 400, 14, 6093, 90, 136, 814, 12282, 38, 118, 90, 1473, 8897, 2554, 72, 4517, 1827, 13413, 15376, 5546, 14, 258, 8742, 72, 6, 35, 5891, 647, 56, 2641, 76, 152, 6, 2235, 4966, 1108, 8742, 26, 300, 3260, 339, 15376, 14, 5454, 62, 6, 12282, 38, 6, 728, 18, 1737, 14, 258, 2145, 18, 4963, 715, 83, 1552, 38, 33, 1041, 149, 18, 2371, 32, 54, 980, 14, 423, 18, 54, 5855, 49, 38, 2, 263, 1552, 447, 859, 38, 3635, 14, 947, 4205, 101, 3055, 8, 9, 3054, 3054, 3054, 3054, 14, 7925, 10601, 14, 13995, 83, 10065, 5710, 14]\n",
            "1 [0, 34, 4126, 6431, 83, 188, 49, 38, 57, 0, 4, 443, 83, 740, 15376, 83, 85, 1357, 14, 0, 3126, 8, 9, 6, 7285, 933, 1397, 46, 1184, 1367, 14, 423, 18, 54, 668, 1400, 4414, 8051, 87, 38, 46, 54, 2129, 8226, 196, 7184, 246, 1794, 14, 5322, 7350, 383, 54, 592, 1569, 72, 339, 623, 38, 46, 0, 4, 3152, 24, 339, 1574, 14, 4091, 504, 54, 295, 1099, 7355, 46, 54, 1137, 4935, 9, 246, 333, 163]\n",
            "0 [423, 49, 383, 136, 155, 9357, 54, 224, 14, 423, 4, 85, 11361, 2636, 9, 333, 14, 74, 4, 54, 2636, 9, 87, 46, 4018, 14, 74, 4, 64, 7455, 57, 1166, 4, 3887, 46, 5663, 14, 947, 10129, 18, 224, 2, 0, 58, 709, 152, 1565, 24, 1520, 14, 428, 18, 295, 9028, 6429, 46, 5663, 5710, 14, 394, 64, 263, 2, 38, 232, 18, 9375, 37, 420, 38, 6, 999, 90, 1737, 38, 6, 2689, 90, 2743, 38, 6, 999, 90, 107, 333, 46, 0, 4, 155, 15376, 76, 233, 188, 49, 163, 258, 263, 215, 0, 5895, 16, 4, 83, 2290, 5951, 13867, 42, 26, 785, 263, 54, 8888, 710, 337, 38, 24, 6, 398, 45, 14, 0, 58, 188, 392, 27, 189, 54, 5752, 415, 6, 1525, 46, 4174, 1872, 57, 118, 8385, 6, 1696, 2609, 89, 70, 10, 659, 38, 3516, 263, 54, 773, 8077, 14, 207, 87, 2251, 76, 188, 18, 15376, 8278, 38, 3132, 6, 35, 2772, 49, 22, 807, 14, 428, 18, 1027, 37, 420, 38, 46, 18, 64, 2610, 14, 538, 16, 18, 136, 323, 76, 152, 2610, 14, 7575, 7124, 11964, 15376, 8657, 14]\n",
            "0 [8027, 14852, 18, 417, 3132, 6, 2939, 15376, 6, 774, 777, 453, 76, 3004, 14, 713, 437, 88, 774, 140, 38, 0, 1548, 6, 5126, 5127, 38, 57, 0, 58, 2, 22, 815, 76, 1475, 246, 154, 22, 1331, 415, 54, 49, 1299, 38, 182, 709, 27, 291, 306, 175, 62, 224, 301, 49, 14, 0, 179, 136, 404, 58, 9, 437, 88, 49, 14852, 453, 365, 42, 415, 339, 368, 38, 400, 136, 7624, 15376, 45, 2, 453, 404, 141, 85, 3864, 415, 6, 774, 777, 70, 87, 619, 14, 297, 188, 49, 38, 1050, 15376, 38, 66, 1332, 254, 332, 120, 14, 13967, 2374, 13966, 38, 0, 903, 131, 498, 83, 291, 306, 2670, 54, 61, 1569, 72, 6, 1555, 1578, 134, 4, 1100, 14, 843, 67, 361, 134, 805, 14, 571, 83, 6, 49, 1592, 126, 6149, 15376, 14, 15376, 6285, 284, 1041, 890, 427, 38, 54, 600, 2, 302, 27, 189, 7751, 22, 85, 314, 38, 46, 404, 66, 1555, 1323, 38, 584, 38, 46, 1315, 14, 5675, 22, 188, 87, 18, 15376, 14, 135, 136, 2636, 246, 333, 14, 3053, 38, 2113, 8, 9, 2575, 14, 0, 68, 4891, 83, 14852, 38, 339, 1023, 75, 32, 16, 4, 677, 370, 16, 404, 936, 785, 500, 14, 0, 248, 2, 134, 162, 955, 76, 15376, 8, 291, 306, 224, 175, 61, 1765, 38, 2, 398, 134, 216, 400, 339, 1489, 1618, 539, 622, 14]\n",
            "0 [258, 1161, 87, 391, 15376, 15376, 15376, 5342, 4608, 15376, 397, 937, 24, 15376, 87, 5178, 10439, 15376, 18, 2774, 415, 6, 2991, 9, 6, 1696, 154, 2371, 24, 54, 3443, 2060, 8825, 15376, 453, 56, 2487, 415, 188, 87, 162, 15376, 76, 2015, 594, 5070, 15376, 46, 560, 38, 16, 18, 56, 1281, 65, 391, 6606, 397, 15376, 87, 453, 189, 9086, 65, 54, 4669, 9, 1072, 4833, 83, 1161, 594, 1943, 76, 426, 64, 228, 524, 583, 9, 1079, 2023, 46, 426, 11443, 415, 89, 1473, 565, 2486, 15376, 87, 18, 4813, 24, 426, 69, 330, 4061, 647, 677, 409, 6708, 484, 76, 6, 1177, 15376, 174, 484, 1994, 68, 65, 125, 566, 90, 725, 54, 2991, 2, 18, 2134, 1565, 14, 258, 4398, 1227, 9, 1915, 6353, 76, 4644, 1943, 76, 15376, 1079, 15376, 18, 1400, 57, 6, 87, 1203, 8, 9, 1327, 905, 6, 1039, 1904, 15376, 6, 1476, 2947, 24, 131, 46, 339, 15376, 9, 3733, 76, 426, 1177, 5217, 6, 87, 12849, 22, 88, 8461, 1371, 76, 426, 15376, 101, 539, 3231, 1994, 392, 15, 64, 263, 6, 87, 57, 155, 426, 89, 298, 65, 13343, 15376, 14]\n",
            "1 [207, 15376, 1141, 253, 22, 6, 619, 9, 2418, 14633, 3705, 12488, 163, 423, 87, 18, 1502, 163, 6979, 38, 182, 27, 76, 27, 54, 1028, 83, 150, 72, 7559, 38, 7864, 1882, 38, 9463, 728, 38, 46, 5803, 37, 2683, 14, 394, 125, 182, 400, 38, 182, 717, 22, 83, 224, 3039, 9, 54, 6303, 14, 7603, 7604, 914, 14837, 15376, 38, 14633, 1546, 162, 391, 6006, 9, 15376, 14, 397, 14837, 162, 15376, 247, 18, 4837, 386, 15376, 72, 6, 2682, 7367, 9, 15376, 5416, 42, 4954, 13963, 45, 38, 559, 15376, 12667, 38, 46, 38, 5004, 38, 7965, 3110, 42, 7249, 10344, 957, 1388, 65, 300, 45, 38, 14837, 162, 15376, 3270, 14, 394, 14837, 453, 189, 9490, 54, 741, 38, 353, 2296, 38, 46, 6, 7367, 9, 15376, 46, 7965, 392, 66, 2134, 16, 76, 6, 1165, 14, 4653, 22, 6, 14018, 6725, 15376, 42, 54, 1304, 7598, 7599, 38, 22, 295, 391, 1152, 922, 72, 15376, 76, 6537, 14079, 397, 45, 38, 26, 18, 323, 2505, 2541, 76, 5133, 14837, 162, 1023, 1134, 1776, 42, 2374, 2694, 38, 2695, 45, 38, 6, 15376, 2018, 9, 6, 3705, 26, 162, 4598, 6207, 72, 6725, 76, 6703, 14837, 1134, 46, 38, 6051, 15376, 42, 3707, 3708, 45, 38, 10840, 46, 14837, 162, 224, 599, 15376, 38, 46, 182, 90, 22, 83, 54, 15376, 5543, 9, 8838, 46, 2643, 1953, 14, 15376, 2645, 32, 188, 90, 12457, 76, 12377, 42, 383, 562, 1481, 15376, 15376, 145, 126, 45, 38, 57, 203, 365, 272, 38, 216, 152, 548, 6454, 2610, 163, 207, 336, 4761, 2, 18, 925, 76, 437, 61, 1947, 18, 6, 3367, 9, 7181, 12263, 26, 183, 2, 2124, 9, 659, 6, 5878, 726, 90, 64, 413, 57, 613, 22, 85, 6304, 70, 54, 734, 14, 7604, 38, 10344, 38, 3708, 38, 46, 6, 1217, 245, 745, 1621, 228, 272, 46, 90, 5, 1048, 54, 275, 333, 2, 16, 18, 2541, 64, 76, 448, 5160, 22, 24, 225, 1828, 46, 3267, 14, 13963, 18, 5, 6, 20, 4684, 334, 38, 57, 624, 263, 7002, 920, 76, 826, 33, 624, 18, 2693, 24, 7604, 38, 10344, 38, 6928, 9347, 14, 7599, 18, 54, 10179, 22, 6, 11350, 15102, 623, 38, 579, 182, 58, 9, 6, 8393, 6454, 15376, 182, 936, 67, 172, 163, 163, 428, 90, 56, 2124, 9, 561, 4266, 2, 182, 897, 3313, 22, 107, 42, 57, 38, 5589, 38, 245, 668, 2610, 45, 1464, 38, 1026, 3223, 3357, 38, 15376, 2477, 38, 14384, 15376, 38, 46, 7321, 4777, 14, 4249, 1743, 10857, 698, 6, 1313, 6896, 46, 6, 15376, 37, 1230, 4499, 6, 743, 1885, 14, 15376, 302, 56, 152, 141, 9, 2374, 15376, 162, 4367, 38, 234, 4707, 76, 2055, 54, 3705, 3706, 669, 54, 3705, 3706, 14, 258, 1882, 18, 14329, 677, 72, 275, 742, 38, 4742, 2976, 24, 6, 999, 42, 0, 3334, 152, 1017, 76, 8398, 2, 54, 55, 9, 188, 981, 4, 11192, 45, 14, 7133, 38, 125, 182, 693, 76, 172, 54, 1691, 9, 12263, 2670, 361, 118, 400, 7, 46, 1048, 54, 275, 333, 2670, 16, 38, 137, 246, 3939, 415, 188, 224, 14, 127, 64, 83, 3227, 719, 38, 16, 447, 1475, 182, 22, 54, 61, 665, 46, 147, 182, 4787, 163]\n",
            "0 [1483, 4, 6, 1404, 14, 423, 4, 802, 370, 13176, 7413, 4599, 34, 1725, 85, 1571, 14, 3295, 4444, 0, 115, 152, 85, 6936, 22, 54, 49, 72, 131, 126, 0, 4, 671, 54, 8233, 6936, 22, 391, 947, 15376, 162, 53, 38, 397, 409, 4, 290, 22, 54, 15376, 9, 8942, 1288, 15376, 38, 15376, 14, 258, 393, 1299, 4, 391, 1298, 9914, 397, 42, 586, 2990, 6, 577, 34, 54, 2430, 9, 939, 163, 45, 0, 4, 22, 6, 932, 279, 14, 0, 2483, 8, 76, 233, 6, 49, 6, 438, 16, 4, 1465, 22, 8095, 14, 74, 18, 175, 9, 54, 1947, 62, 54, 774, 49, 14, 394, 158, 83, 54, 61, 4787, 38, 182, 392, 693, 76, 2058, 16, 8, 14, 5675, 2, 18, 155, 1986, 76, 391, 11284, 9, 6, 2267, 397, 70, 155, 391, 5062, 9, 6, 2267, 397, 1320, 38, 57, 6, 8465, 917, 18, 61, 1474, 14, 15376]\n",
            "0 [258, 263, 3658, 398, 76, 738, 188, 1765, 18, 76, 2446, 246, 2750, 310, 6, 2820, 38, 1283, 539, 3438, 15376, 9, 6, 7600, 38, 1991, 54, 1691, 9, 246, 7600, 13648, 132, 46, 905, 182, 90, 6379, 5916, 7234, 38, 1305, 133, 182, 3054, 15376, 3054, 738, 188, 87, 14, 258, 263, 3379, 4938, 4, 6, 600, 436, 15376, 46, 9161, 14, 14597, 4, 239, 22, 6, 623, 9, 6, 8358, 11011, 46, 228, 4, 6, 13575, 646, 14, 6060, 125, 118, 115, 27, 7721, 6, 97, 49, 415, 225, 15376, 22, 3774, 46, 1562, 118, 1209, 626, 22, 696, 115, 27, 141, 16, 54, 69, 175, 1140, 87, 14, 258, 263, 215, 0, 1370, 16, 54, 309, 4205, 18, 33, 9, 15376, 46, 339, 1151, 65, 85, 818, 203, 16, 1097, 76, 1947, 14, 15376, 15376, 46, 11955, 12240, 259, 5880, 12470, 14, 6870, 6, 279, 291, 15376, 9, 6, 15376, 4, 66, 330, 69, 76, 14883, 14, 4722, 85, 8227, 15376, 22, 6, 4132, 5847, 619, 38, 11955, 12240, 115, 27, 785, 1211, 290, 69, 370, 134, 155, 1769, 6, 5593, 8732, 76, 15376, 339, 599, 696, 101, 45, 394, 133, 360, 6, 120, 9, 6, 49, 4, 76, 1189, 786, 38, 10985, 38, 13232, 46, 4098, 85, 11377, 415, 6, 346, 9, 6, 3054, 15376, 3054, 927, 14, 5050, 16, 291, 246, 368, 4059, 14, 305, 306, 0, 183, 0, 27, 189, 12586, 83, 247, 101, 42]\n",
            "1 [207, 4504, 38, 2776, 87, 351, 1119, 38, 10093, 947, 10094, 18, 54, 15376, 38, 15376, 6064, 1130, 14, 74, 162, 2031, 83, 6, 15376, 15376, 6971, 9, 1154, 1155, 46, 2081, 54, 15376, 11559, 1574, 351, 15376, 1148, 14, 1148, 18, 54, 2922, 1117, 9, 1119, 22, 6, 1696, 398, 2, 15376, 15376, 6092, 254, 83, 15376, 15376, 101, 15376, 1034, 42, 624, 162, 9894, 76, 24, 1520, 65, 1056, 22, 188, 87, 45, 38, 9533, 46, 2533, 9, 54, 15376, 9113, 14, 423, 18, 1149, 6, 8470, 9, 559, 623, 65, 1052, 38, 54, 15376, 1076, 15376, 38, 15376, 24, 10116, 12935, 559, 15376, 14, 4229, 624, 825, 85, 15376, 15376, 38, 125, 182, 32, 22, 1155, 162, 10117, 1071, 14, 6338, 1089, 6, 88, 162, 1656, 2526, 42, 3980, 46, 1106, 78, 45, 76, 676, 238, 225, 8995, 2794, 46, 1070, 85, 15376, 1124, 15376, 14, 15376, 9013, 1052, 162, 15376, 46, 426, 5257, 38, 11968, 1932, 619, 72, 15376, 38, 909, 2839, 14, 363, 188, 87, 42, 6415, 45, 1119, 18, 1527, 5, 22, 1919, 9, 339, 9482, 415, 783, 38, 800, 46, 15376, 339, 1153, 72, 54, 629, 3865, 934, 409, 447, 448, 6, 275, 301, 957, 207, 15376, 957, 9, 9664, 678, 1316, 14, 2247]\n",
            "0 [2062, 54, 142, 7520, 678, 38, 11092, 4, 54, 548, 6549, 333, 83, 1981, 101, 64, 263, 67, 134, 147, 2, 9055, 391, 15376, 397, 1546, 4651, 57, 134, 56, 1766, 54, 340, 46, 5315, 22, 89, 548, 3168, 13, 65, 272, 1342, 15376, 46, 15376, 207, 13992, 38, 5019, 207, 13992, 14, 9461, 38, 50, 0, 216, 862, 131, 83, 6, 15376, 2, 4, 15376, 2999, 38, 15376, 409, 38, 291, 7, 38, 8502, 65, 85, 918, 14456, 46, 18, 64, 245, 2, 187, 2962, 14, 169, 38, 4602, 9337, 46, 3760, 13099, 90, 4652, 11912, 1342, 65, 38, 6189, 38, 54, 12815, 3446, 340, 76, 1981, 145, 149, 46, 54, 15376, 4567, 26, 453, 559, 899, 415, 2261, 8007, 330, 957, 57, 224, 18, 3184, 76, 172, 1981, 2693, 24, 864, 5495, 1586, 1855, 32, 15376, 15376, 42, 65, 9337, 162, 2365, 1171, 45, 38, 6, 89, 4370, 1342, 1746, 46, 15376, 14, 957, 46, 4599, 4600, 26, 18, 1703, 3024, 65, 4075, 5740, 15376, 26, 18, 9337, 162, 5635, 340, 280, 15376, 339, 556, 15376, 1029, 22, 6, 821, 438, 163, 1667, 232, 18, 54, 17, 42, 125, 64, 15376, 1100, 225, 1303, 15376, 45, 860, 9, 1628, 38, 232, 75, 76, 152, 1027, 15376, 9, 15376, 3858, 259, 6, 1068, 7164, 301, 6, 9868, 6964, 294, 8007, 9805, 339, 10578, 1833, 1093, 225, 1332, 163, 571, 216, 152, 3856, 38, 6, 6283, 15376, 145, 11544, 1323, 18, 54, 336, 4603, 334, 46, 6, 13833, 38, 15376, 2427, 7916, 18, 64, 263, 54, 61, 224, 57, 54, 336, 37, 120, 14, 371, 6, 88, 1327, 38, 6, 8787, 15376, 9, 6, 1416, 145, 2717, 18, 224, 566, 958, 613, 330, 1231, 63, 46, 383, 136, 745, 330, 272, 334, 158]\n"
          ]
        }
      ],
      "source": [
        "print(len(clf_train_ds))\n",
        "for i in range(10):\n",
        "    x, y = clf_train_ds[i]\n",
        "    print(y, x)"
      ]
    },
    {
      "attachments": {},
      "cell_type": "markdown",
      "metadata": {
        "id": "bKLnyhr-PxTl"
      },
      "source": [
        "We will create a train-loader, a validation-loader and a test-loader"
      ]
    },
    {
      "cell_type": "code",
      "execution_count": 35,
      "metadata": {
        "id": "LXT-6yE6KZLQ"
      },
      "outputs": [],
      "source": [
        "clf_train_dl = DataLoader(clf_train_ds, batch_size=config['clf_batch_size'], shuffle=True, collate_fn=my_collate_fn)\n",
        "clf_val_dl = DataLoader(clf_val_ds, batch_size=config['clf_batch_size'], shuffle=True, collate_fn=my_collate_fn)\n",
        "clf_test_dl = DataLoader(clf_test_ds, batch_size=config['clf_batch_size'], shuffle=False, collate_fn=my_collate_fn)"
      ]
    },
    {
      "attachments": {},
      "cell_type": "markdown",
      "metadata": {
        "id": "EZExQ5fZuq1d"
      },
      "source": [
        "### 2.2 Model Definition"
      ]
    },
    {
      "attachments": {},
      "cell_type": "markdown",
      "metadata": {
        "id": "qppgn71UQA_n"
      },
      "source": [
        "We will define a Text Classifier class that will serve as a base class for both the Language Model Classifier and the End-to-End Classifier"
      ]
    },
    {
      "cell_type": "code",
      "execution_count": 36,
      "metadata": {
        "id": "XUkViINpg2fD"
      },
      "outputs": [],
      "source": [
        "class TextClassifier(nn.Module):\n",
        "    def __init__(self, num_features, num_classes):\n",
        "        super().__init__()\n",
        "\n",
        "        # Classifier\n",
        "        middle_dim = int(num_classes**0.2 * num_features**0.8)\n",
        "        self.fc1 = nn.Linear(in_features=num_features, out_features=middle_dim)\n",
        "        self.relu6 = nn.ReLU6()\n",
        "        self.fc2 = nn.Linear(in_features=middle_dim, out_features=num_classes)\n",
        "        \n",
        "    def extract_features(self, x):\n",
        "        assert False, \"This method has to be overriden!\"\n",
        "\n",
        "    def forward(self, x):\n",
        "\n",
        "        # Extract features\n",
        "        feature_vec = self.extract_features(x)\n",
        "\n",
        "        # Forward Fully-Connected\n",
        "        pred = self.fc1(feature_vec)\n",
        "        pred = self.relu6(pred)\n",
        "        pred = self.fc2(pred)\n",
        "\n",
        "        return pred      "
      ]
    },
    {
      "attachments": {},
      "cell_type": "markdown",
      "metadata": {
        "id": "AeRaxWRwKZLQ"
      },
      "source": [
        "**A - Language Model Classifier**\n",
        "\n",
        "We will define a class for the Language Model Classifier"
      ]
    },
    {
      "cell_type": "code",
      "execution_count": null,
      "metadata": {
        "id": "0Bj2e0zavzdz"
      },
      "outputs": [],
      "source": [
        "class LanguageModelClassifier(TextClassifier):\n",
        "    def __init__(self, sentence_encoder, num_classes):\n",
        "        super().__init__(sentence_encoder.hidden_dim * sentence_encoder.num_layers, num_classes)\n",
        "\n",
        "        self.sentence_encoder = sentence_encoder\n",
        "\n",
        "        for param in self.sentence_encoder.parameters():\n",
        "            param.requires_grad = False\n",
        "\n",
        "    def extract_features(self, x):\n",
        "        return self.sentence_encoder(x)"
      ]
    },
    {
      "attachments": {},
      "cell_type": "markdown",
      "metadata": {
        "id": "NMNsQKTTQ7Om"
      },
      "source": [
        "**B - GloVe Classifier**\n",
        "\n",
        "We will define a class for the GloVe Classifier"
      ]
    },
    {
      "cell_type": "code",
      "execution_count": 37,
      "metadata": {
        "id": "WFBMI-_I0y-R"
      },
      "outputs": [],
      "source": [
        "class GloVeClassifier(TextClassifier):\n",
        "    def __init__(self, id2token, embeddings, hidden_dim, num_layers, num_classes):\n",
        "        super().__init__(hidden_dim * num_layers * 2, num_classes)\n",
        "\n",
        "        self.num_layers = num_layers\n",
        "\n",
        "        self.__build_embeddings(embeddings, id2token)\n",
        "        self.lstm = nn.LSTM(input_size=len(embeddings[1]), \n",
        "                            hidden_size=hidden_dim, \n",
        "                            num_layers=num_layers,\n",
        "                            bidirectional=True)\n",
        "\n",
        "    def __build_embeddings(self, embeddings, id2token):\n",
        "        \n",
        "        embedding_size = len(embeddings[0])\n",
        "        num_embeddings = len(id2token) + 1\n",
        "\n",
        "        self.embedding = torch.randn(num_embeddings, embedding_size)\n",
        "\n",
        "        # Select pretrained vectors\n",
        "        for i, w in id2token.items():\n",
        "            if w in embeddings:\n",
        "                self.embedding[i] = torch.tensor(embeddings[w])\n",
        "\n",
        "        self.embedding = nn.Embedding.from_pretrained(self.embedding, freeze=True)\n",
        "\n",
        "    def extract_features(self, x):\n",
        "\n",
        "        # Select embeddings\n",
        "        unpacked_x = unpack_sequence(x)\n",
        "        batch_size = len(unpacked_x)\n",
        "        embeddings = [self.embedding(sample) for sample in unpacked_x]\n",
        "        packed_embeddings = pack_sequence(embeddings, enforce_sorted=False)\n",
        "\n",
        "        # Forward LSTM\n",
        "        output, (h_n, c_n) = self.lstm(packed_embeddings)\n",
        "\n",
        "        return torch.transpose(c_n, 0, 1).reshape(batch_size, -1)"
      ]
    },
    {
      "attachments": {},
      "cell_type": "markdown",
      "metadata": {
        "id": "z8PjpFghKZLQ"
      },
      "source": [
        "### 2.3 Training"
      ]
    },
    {
      "attachments": {},
      "cell_type": "markdown",
      "metadata": {
        "id": "6w2yoPdFKZLR"
      },
      "source": [
        "**A - Language Model Classifier**\n",
        "\n",
        "We will use our pre-trained Language Model, or we can load some Language Model's checkpoint.\\\n",
        "Then, we will create a Language Model Classifier instance, and a Trainer to train our model, and finally we will plot the training results.\n"
      ]
    },
    {
      "cell_type": "code",
      "execution_count": null,
      "metadata": {
        "id": "94J2LjsMRTlL"
      },
      "outputs": [],
      "source": [
        "# lm_loaded_name = lm_name\n",
        "# lm_loaded_epoch = config[\"lm_epochs\"]\n",
        "# lm_loaded = torch.load(f'models/{lm_loaded_name}/epc{lm_loaded_epoch}')"
      ]
    },
    {
      "cell_type": "code",
      "execution_count": null,
      "metadata": {
        "colab": {
          "base_uri": "https://localhost:8080/"
        },
        "id": "C3LQZrmXKZLQ",
        "outputId": "fbc8e517-e5f0-4485-c011-df292d01ab14"
      },
      "outputs": [
        {
          "name": "stdout",
          "output_type": "stream",
          "text": [
            "Name: CLF_LM_smp10000_vcb15376_mbd300_hdn600\n",
            "Path: models/CLF_LM_smp10000_vcb15376_mbd300_hdn600\n",
            "Model: LanguageModelClassifier(\n",
            "  (fc1): Linear(in_features=600, out_features=191, bias=True)\n",
            "  (relu6): ReLU6()\n",
            "  (fc2): Linear(in_features=191, out_features=2, bias=True)\n",
            "  (sentence_encoder): SentenceEncoder(\n",
            "    (embedding): Embedding(15379, 300)\n",
            "    (lstm): LSTM(300, 600)\n",
            "  )\n",
            ")\n"
          ]
        }
      ],
      "source": [
        "lm_clf = LanguageModelClassifier(lm.sentence_encoder, num_classes=2)\n",
        "lm_clf_name = f\"CLF_{lm_name}\"\n",
        "lm_clf_path = f\"models/{lm_clf_name}\"\n",
        "\n",
        "print(f\"Name: {lm_clf_name}\")\n",
        "print(f\"Path: {lm_clf_path}\")\n",
        "print(f\"Model: {lm_clf}\")"
      ]
    },
    {
      "cell_type": "code",
      "execution_count": null,
      "metadata": {
        "colab": {
          "base_uri": "https://localhost:8080/"
        },
        "id": "fmnfR06kFR4I",
        "outputId": "15d48757-0917-4512-f619-43c1f3955c94"
      },
      "outputs": [
        {
          "name": "stdout",
          "output_type": "stream",
          "text": [
            "/content/drive/MyDrive/Colab Notebooks/NLP/runs\n",
            "/content/drive/MyDrive/Colab Notebooks/NLP\n"
          ]
        }
      ],
      "source": [
        "lm_clf_trainer = Trainer(lm_clf_name)"
      ]
    },
    {
      "cell_type": "code",
      "execution_count": null,
      "metadata": {
        "colab": {
          "base_uri": "https://localhost:8080/"
        },
        "id": "Xjoff2WYw6DA",
        "outputId": "d6fec566-ec2a-41e8-a2fa-9e0c5cde32cd"
      },
      "outputs": [
        {
          "name": "stdout",
          "output_type": "stream",
          "text": [
            "--------------- epoch 1/10 ---------------\n",
            "Train (Avg. Loss 0.671, Accuracy 0.571): 100%|██████████| 74/74 [00:05<00:00, 14.32it/s]\n",
            "Validation (Avg. Loss 0.658, Accuracy 0.589): 100%|██████████| 25/25 [00:01<00:00, 15.03it/s]\n",
            "--------------- epoch 2/10 ---------------\n",
            "Train (Avg. Loss 0.642, Accuracy 0.610): 100%|██████████| 74/74 [00:05<00:00, 14.48it/s]\n",
            "Validation (Avg. Loss 0.649, Accuracy 0.595): 100%|██████████| 25/25 [00:01<00:00, 14.71it/s]\n",
            "--------------- epoch 3/10 ---------------\n",
            "Train (Avg. Loss 0.632, Accuracy 0.619): 100%|██████████| 74/74 [00:05<00:00, 14.68it/s]\n",
            "Validation (Avg. Loss 0.644, Accuracy 0.611): 100%|██████████| 25/25 [00:01<00:00, 15.38it/s]\n",
            "--------------- epoch 4/10 ---------------\n",
            "Train (Avg. Loss 0.623, Accuracy 0.632): 100%|██████████| 74/74 [00:05<00:00, 14.46it/s]\n",
            "Validation (Avg. Loss 0.648, Accuracy 0.599): 100%|██████████| 25/25 [00:01<00:00, 15.16it/s]\n",
            "--------------- epoch 5/10 ---------------\n",
            "Train (Avg. Loss 0.615, Accuracy 0.641): 100%|██████████| 74/74 [00:05<00:00, 14.45it/s]\n",
            "Validation (Avg. Loss 0.643, Accuracy 0.612): 100%|██████████| 25/25 [00:01<00:00, 14.93it/s]\n",
            "--------------- epoch 6/10 ---------------\n",
            "Train (Avg. Loss 0.608, Accuracy 0.647): 100%|██████████| 74/74 [00:05<00:00, 14.39it/s]\n",
            "Validation (Avg. Loss 0.644, Accuracy 0.607): 100%|██████████| 25/25 [00:01<00:00, 14.88it/s]\n",
            "--------------- epoch 7/10 ---------------\n",
            "Train (Avg. Loss 0.601, Accuracy 0.654): 100%|██████████| 74/74 [00:05<00:00, 14.44it/s]\n",
            "Validation (Avg. Loss 0.643, Accuracy 0.613): 100%|██████████| 25/25 [00:01<00:00, 14.95it/s]\n",
            "--------------- epoch 8/10 ---------------\n",
            "Train (Avg. Loss 0.593, Accuracy 0.661): 100%|██████████| 74/74 [00:05<00:00, 14.32it/s]\n",
            "Validation (Avg. Loss 0.642, Accuracy 0.614): 100%|██████████| 25/25 [00:01<00:00, 15.00it/s]\n",
            "--------------- epoch 9/10 ---------------\n",
            "Train (Avg. Loss 0.587, Accuracy 0.667): 100%|██████████| 74/74 [00:05<00:00, 14.47it/s]\n",
            "Validation (Avg. Loss 0.649, Accuracy 0.616): 100%|██████████| 25/25 [00:01<00:00, 14.89it/s]\n",
            "--------------- epoch 10/10 ---------------\n",
            "Train (Avg. Loss 0.582, Accuracy 0.667): 100%|██████████| 74/74 [00:05<00:00, 14.28it/s]\n",
            "Validation (Avg. Loss 0.647, Accuracy 0.613): 100%|██████████| 25/25 [00:01<00:00, 14.97it/s]\n"
          ]
        }
      ],
      "source": [
        "lm_clf_train_losses, lm_clf_val_losses = lm_clf_trainer.start(model=lm_clf, \n",
        "                                                              train_dl=clf_train_dl, \n",
        "                                                              val_dl=clf_val_dl, \n",
        "                                                              device=device, \n",
        "                                                              optimizer=torch.optim.Adam(lm_clf.parameters()), \n",
        "                                                              loss_fn=nn.CrossEntropyLoss(), \n",
        "                                                              num_epochs=config['clf_epochs'])"
      ]
    },
    {
      "cell_type": "code",
      "execution_count": null,
      "metadata": {
        "colab": {
          "base_uri": "https://localhost:8080/",
          "height": 472
        },
        "id": "mWvsEq9_w6DB",
        "outputId": "45df947a-6fa8-43a7-f2b2-781bbe1e9090"
      },
      "outputs": [
        {
          "data": {
            "image/png": "[encoded data removed]",
            "text/plain": [
              "<Figure size 640x480 with 1 Axes>"
            ]
          },
          "metadata": {},
          "output_type": "display_data"
        }
      ],
      "source": [
        "plot_train_results(lm_clf_train_losses, lm_clf_val_losses)"
      ]
    },
    {
      "attachments": {},
      "cell_type": "markdown",
      "metadata": {
        "id": "mItNUgNoKZLR"
      },
      "source": [
        "**B - GloVe Classifier**\n",
        "\n",
        "We will create a GloVe Classifier instance, and a Trainer to train our model, and finally we will plot the training results."
      ]
    },
    {
      "cell_type": "code",
      "execution_count": 38,
      "metadata": {
        "colab": {
          "base_uri": "https://localhost:8080/",
          "height": 0
        },
        "id": "OmkT6dnWIVX7",
        "outputId": "69d02196-2832-4b55-d6b5-b95c2254607f"
      },
      "outputs": [
        {
          "name": "stdout",
          "output_type": "stream",
          "text": [
            "Name: GLV_CLF_vcb15376_mbdglove-wiki-gigaword-300_hdn600\n",
            "Path: models/GLV_CLF_vcb15376_mbdglove-wiki-gigaword-300_hdn600\n",
            "Model: GloVeClassifier(\n",
            "  (fc1): Linear(in_features=2400, out_features=581, bias=True)\n",
            "  (relu6): ReLU6()\n",
            "  (fc2): Linear(in_features=581, out_features=2, bias=True)\n",
            "  (embedding): Embedding(15380, 300)\n",
            "  (lstm): LSTM(300, 600, num_layers=2, bidirectional=True)\n",
            ")\n"
          ]
        }
      ],
      "source": [
        "glv_clf = GloVeClassifier(id2token=id2token, \n",
        "                          embeddings=clf_embeddings, \n",
        "                          hidden_dim=config['clf_hidden_dim'], \n",
        "                          num_layers=config['clf_num_layers'], \n",
        "                          num_classes=2)\n",
        "glv_clf_name = f\"GLV_CLF_vcb{len(reduced_vocab)}_mbd{config['clf_embeddings']}_hdn{config['clf_hidden_dim']}\"\n",
        "glv_clf_path = f\"models/{glv_clf_name}\"\n",
        "\n",
        "print(f\"Name: {glv_clf_name}\")\n",
        "print(f\"Path: {glv_clf_path}\")\n",
        "print(f\"Model: {glv_clf}\")"
      ]
    },
    {
      "cell_type": "code",
      "execution_count": 41,
      "metadata": {
        "colab": {
          "base_uri": "https://localhost:8080/",
          "height": 0
        },
        "id": "PWuLyz-fFR4J",
        "outputId": "0e335fc3-0e8b-4c2b-865f-6c99e5883439"
      },
      "outputs": [
        {
          "name": "stdout",
          "output_type": "stream",
          "text": [
            "/content/drive/MyDrive/Colab Notebooks/NLP/runs\n",
            "/content/drive/MyDrive/Colab Notebooks/NLP\n"
          ]
        }
      ],
      "source": [
        "glv_clf_trainer = Trainer(glv_clf_name)"
      ]
    },
    {
      "cell_type": "code",
      "execution_count": 42,
      "metadata": {
        "colab": {
          "base_uri": "https://localhost:8080/",
          "height": 0
        },
        "id": "EiFN8t2Fw6DB",
        "outputId": "7f48408b-7481-46f6-afd4-fb223dc46f54"
      },
      "outputs": [
        {
          "name": "stdout",
          "output_type": "stream",
          "text": [
            "--------------- epoch 1/10 ---------------\n",
            "Train (Avg. Loss 0.662, Accuracy 0.594): 100%|██████████| 74/74 [00:17<00:00,  4.24it/s]\n",
            "Validation (Avg. Loss 0.526, Accuracy 0.733): 100%|██████████| 25/25 [00:02<00:00,  9.65it/s]\n",
            "--------------- epoch 2/10 ---------------\n",
            "Train (Avg. Loss 0.621, Accuracy 0.681): 100%|██████████| 74/74 [00:15<00:00,  4.64it/s]\n",
            "Validation (Avg. Loss 0.529, Accuracy 0.730): 100%|██████████| 25/25 [00:02<00:00,  9.73it/s]\n",
            "--------------- epoch 3/10 ---------------\n",
            "Train (Avg. Loss 0.558, Accuracy 0.712): 100%|██████████| 74/74 [00:15<00:00,  4.64it/s]\n",
            "Validation (Avg. Loss 0.541, Accuracy 0.741): 100%|██████████| 25/25 [00:02<00:00,  9.69it/s]\n",
            "--------------- epoch 4/10 ---------------\n",
            "Train (Avg. Loss 0.466, Accuracy 0.773): 100%|██████████| 74/74 [00:15<00:00,  4.63it/s]\n",
            "Validation (Avg. Loss 0.532, Accuracy 0.728): 100%|██████████| 25/25 [00:02<00:00,  9.71it/s]\n",
            "--------------- epoch 5/10 ---------------\n",
            "Train (Avg. Loss 0.409, Accuracy 0.816): 100%|██████████| 74/74 [00:16<00:00,  4.62it/s]\n",
            "Validation (Avg. Loss 0.357, Accuracy 0.851): 100%|██████████| 25/25 [00:02<00:00,  9.59it/s]\n",
            "--------------- epoch 6/10 ---------------\n",
            "Train (Avg. Loss 0.296, Accuracy 0.875): 100%|██████████| 74/74 [00:16<00:00,  4.62it/s]\n",
            "Validation (Avg. Loss 0.323, Accuracy 0.872): 100%|██████████| 25/25 [00:02<00:00,  9.72it/s]\n",
            "--------------- epoch 7/10 ---------------\n",
            "Train (Avg. Loss 0.252, Accuracy 0.900): 100%|██████████| 74/74 [00:16<00:00,  4.61it/s]\n",
            "Validation (Avg. Loss 0.393, Accuracy 0.837): 100%|██████████| 25/25 [00:02<00:00,  9.61it/s]\n",
            "--------------- epoch 8/10 ---------------\n",
            "Train (Avg. Loss 0.207, Accuracy 0.918): 100%|██████████| 74/74 [00:15<00:00,  4.64it/s]\n",
            "Validation (Avg. Loss 0.347, Accuracy 0.868): 100%|██████████| 25/25 [00:02<00:00,  9.61it/s]\n",
            "--------------- epoch 9/10 ---------------\n",
            "Train (Avg. Loss 0.177, Accuracy 0.932): 100%|██████████| 74/74 [00:16<00:00,  4.61it/s]\n",
            "Validation (Avg. Loss 0.342, Accuracy 0.873): 100%|██████████| 25/25 [00:02<00:00,  9.55it/s]\n",
            "--------------- epoch 10/10 ---------------\n",
            "Train (Avg. Loss 0.137, Accuracy 0.949): 100%|██████████| 74/74 [00:15<00:00,  4.64it/s]\n",
            "Validation (Avg. Loss 0.350, Accuracy 0.877): 100%|██████████| 25/25 [00:02<00:00,  9.75it/s]\n"
          ]
        }
      ],
      "source": [
        "glv_clf_train_losses, glv_clf_val_losses = glv_clf_trainer.start(model=glv_clf, \n",
        "                                                                 train_dl=clf_train_dl, \n",
        "                                                                 val_dl=clf_val_dl, \n",
        "                                                                 device=device, \n",
        "                                                                 optimizer=torch.optim.Adam(glv_clf.parameters()), \n",
        "                                                                 loss_fn=nn.CrossEntropyLoss(), \n",
        "                                                                 num_epochs=config['clf_epochs'])"
      ]
    },
    {
      "cell_type": "code",
      "execution_count": 43,
      "metadata": {
        "colab": {
          "base_uri": "https://localhost:8080/",
          "height": 472
        },
        "id": "mB5AcMHSw6DB",
        "outputId": "5013399f-1694-4326-c578-5ec7d866a7e7"
      },
      "outputs": [
        {
          "data": {
            "image/png": "[encoded data removed]",
            "text/plain": [
              "<Figure size 640x480 with 1 Axes>"
            ]
          },
          "metadata": {},
          "output_type": "display_data"
        }
      ],
      "source": [
        "plot_train_results(glv_clf_train_losses, glv_clf_val_losses)"
      ]
    },
    {
      "attachments": {},
      "cell_type": "markdown",
      "metadata": {
        "id": "bAcdz9yYKZLS"
      },
      "source": [
        "### 2.4 Evaluation"
      ]
    },
    {
      "attachments": {},
      "cell_type": "markdown",
      "metadata": {
        "id": "PsheycWnvmCO"
      },
      "source": [
        "#### 2.4.1 Scores"
      ]
    },
    {
      "attachments": {},
      "cell_type": "markdown",
      "metadata": {
        "id": "k5q77fi2SRy1"
      },
      "source": [
        "We will define some functions that will help us apply our classifiers on our test-set and plot their respective confusion matrix"
      ]
    },
    {
      "cell_type": "code",
      "execution_count": 44,
      "metadata": {
        "id": "8rtaR5xZw6DC"
      },
      "outputs": [],
      "source": [
        "def predict(clf, dataloader):\n",
        "    clf.eval()\n",
        "    clf.to(device)\n",
        "\n",
        "    y_pred = []\n",
        "    y_true = []\n",
        "\n",
        "    with torch.no_grad():\n",
        "        for i, (X, y) in enumerate(clf_test_dl, start=1):\n",
        "\n",
        "            # Collect predictions & labels\n",
        "            y_pred += torch.argmax(clf(X.to(device)), axis=1).tolist()\n",
        "            y_true += y.tolist()\n",
        "\n",
        "    return y_pred, y_true\n",
        "\n",
        "def plot_confusion_matrix(clf, dataloader, clf_name):\n",
        "    y_pred, y_true = predict(clf, dataloader)\n",
        "    accuracy = (np.array(y_pred) == np.array(y_true)).sum() / len(y_true)\n",
        "    cm = confusion_matrix(y_true, y_pred)\n",
        "\n",
        "    sns.heatmap(cm, annot=cm)\n",
        "    plt.ylabel(\"Ground Truth\")\n",
        "    plt.xlabel(\"Predictions\")\n",
        "    plt.title(f\"{clf_name} ({100 * accuracy:.2f}%)\")"
      ]
    },
    {
      "attachments": {},
      "cell_type": "markdown",
      "metadata": {
        "id": "SWOtN-OYKZLS"
      },
      "source": [
        "**A - Language Model Classifier**"
      ]
    },
    {
      "cell_type": "code",
      "execution_count": null,
      "metadata": {
        "colab": {
          "base_uri": "https://localhost:8080/",
          "height": 472
        },
        "id": "sYp4by5VZFNb",
        "outputId": "e1fb9617-b86f-4db5-8666-fc556ec7bd0f"
      },
      "outputs": [
        {
          "data": {
            "image/png": "[encoded data removed]",
            "text/plain": [
              "<Figure size 640x480 with 2 Axes>"
            ]
          },
          "metadata": {},
          "output_type": "display_data"
        }
      ],
      "source": [
        "plot_confusion_matrix(lm_clf, clf_test_dl, \"Language Model Classifier\")"
      ]
    },
    {
      "attachments": {},
      "cell_type": "markdown",
      "metadata": {
        "id": "Qx4bWs-6KZLS"
      },
      "source": [
        "**B - GloVe Classifier**"
      ]
    },
    {
      "cell_type": "code",
      "execution_count": 45,
      "metadata": {
        "colab": {
          "base_uri": "https://localhost:8080/",
          "height": 472
        },
        "id": "lXuu7dkzcBDg",
        "outputId": "2179bc78-bf4c-475d-c791-eb9482f0f81b"
      },
      "outputs": [
        {
          "data": {
            "image/png": "[encoded data removed]",
            "text/plain": [
              "<Figure size 640x480 with 2 Axes>"
            ]
          },
          "metadata": {},
          "output_type": "display_data"
        }
      ],
      "source": [
        "plot_confusion_matrix(glv_clf, clf_test_dl, \"End-to-End Classifier\")"
      ]
    },
    {
      "attachments": {},
      "cell_type": "markdown",
      "metadata": {
        "id": "6mjUABVkvyO-"
      },
      "source": [
        "#### 2.4.2 Error Analysis"
      ]
    },
    {
      "attachments": {},
      "cell_type": "markdown",
      "metadata": {
        "id": "60uqjgb1Vv1i"
      },
      "source": [
        "We will define a function that will help us retrieve samples from the confusion matrix:\n",
        "\n",
        "1. False Positive\n",
        "2. False Negative"
      ]
    },
    {
      "cell_type": "code",
      "execution_count": 46,
      "metadata": {
        "id": "lJ41peSPYP1A"
      },
      "outputs": [],
      "source": [
        "def get_error_examples(clf, dataset, num_examples=3):\n",
        "\n",
        "    examples = [[], []]\n",
        "    found = np.zeros(2)\n",
        "\n",
        "    # Look for examples\n",
        "    for x, y in dataset:\n",
        "\n",
        "        # Compare\n",
        "        if found[y] < num_examples:\n",
        "            pred = torch.argmax(clf(pack_sequence([torch.tensor(x, dtype=torch.long)]))).item()\n",
        "            if pred != y:\n",
        "                examples[y].append(x)\n",
        "                found[y] += 1\n",
        "        \n",
        "        # Done \n",
        "        if np.all(found == num_examples):\n",
        "            break\n",
        "                \n",
        "    # More convenient to select from dictionary\n",
        "    return {\n",
        "        \"False Positive\": examples[0],\n",
        "        \"False Negative\": examples[1]\n",
        "    }"
      ]
    },
    {
      "attachments": {},
      "cell_type": "markdown",
      "metadata": {
        "id": "hz9pIAtucjQ8"
      },
      "source": [
        "We will define a function that will help us convert a sample into text"
      ]
    },
    {
      "cell_type": "code",
      "execution_count": 48,
      "metadata": {
        "id": "BMfnAfWgLuhB"
      },
      "outputs": [],
      "source": [
        "def sample_to_text(sample, id2token):\n",
        "    return ' '.join([id2token[i] for i in sample])"
      ]
    },
    {
      "attachments": {},
      "cell_type": "markdown",
      "metadata": {
        "id": "R-5zee7Xv7hw"
      },
      "source": [
        "**A - Language Model Classifier**"
      ]
    },
    {
      "cell_type": "code",
      "execution_count": null,
      "metadata": {
        "id": "-W_b5gBwwR0U"
      },
      "outputs": [],
      "source": [
        "lm_clf_examples = get_error_examples(lm_clf, clf_test_ds)"
      ]
    },
    {
      "cell_type": "code",
      "execution_count": null,
      "metadata": {
        "colab": {
          "base_uri": "https://localhost:8080/"
        },
        "id": "GhueY4uBY1nG",
        "outputId": "16524ff8-7bca-4f98-d3c1-375f4f5c7258"
      },
      "outputs": [
        {
          "name": "stdout",
          "output_type": "stream",
          "text": [
            "False Positive\n",
            "==============\n",
            "(343 tokens) Not even the Beatles could write songs everyone liked , and although Walter Hill is no <UNKNOWN> he 's second to none when it comes to thought provoking action movies . The nineties came and social <UNKNOWN> were changing in music and film , the <UNKNOWN> of the <UNKNOWN> turned movie star was in full swing , the acting took a back seat to each man 's <UNKNOWN> <UNKNOWN> accent and transparent acting . This was one of the many <UNKNOWN> movies i saw as a kid and loved , only to watch them later and cringe . Bill Paxton and William <UNKNOWN> are firemen with basic lives until a burning building tenant about to go up in flames hands over a map with gold implications . I hand it to Walter for quickly and neatly setting up the main characters and location . But i fault everyone involved for turning out <UNKNOWN> performances . <UNKNOWN> and cube must have been red hot at this time , and while I 've enjoyed both their careers as <UNKNOWN> , in my opinion they fell flat in this movie . It 's about ninety minutes of one guy ridiculously turning his back on the other guy to the point you find yourself locked in multiple states of disbelief . Now this is a movie , its not a documentary so i wont waste my time <UNKNOWN> all the stupid plot twists in this movie , but there were many , and they led nowhere . I got the feeling watching this that everyone on set was <UNKNOWN> of confused and just playing things off the <UNKNOWN> . There are two things i still enjoy about it , one involves a scene with a needle and the other is <UNKNOWN> 's huge 45 pistol . Bottom line this movie is like <UNKNOWN> 's pizza . Yeah ill eat it if I 'm hungry and i do n't feel like cooking , But I 'm well aware it tastes like crap . 3 stars , <UNKNOWN> .\n",
            "(262 tokens) So tell me - what serious <UNKNOWN> drinks <UNKNOWN> ? How many <UNKNOWN> <UNKNOWN> house a fully <UNKNOWN> and barely touched range of drinks in their lonely motel room that a millionaire playboy 's <UNKNOWN> bar would be proud to boast ? And what kind of an alcoholic tends to drink with the bottle held about 8 <UNKNOWN> from his hungry mouth so that the contents generally <UNKNOWN> all over his face ? Not to mention wasting good <UNKNOWN> by <UNKNOWN> your girlfriend 's tits with it , just so the cinema audience can get a good <UNKNOWN> of Elisabeth Shue 's assets . Cage seems to be portraying the most <UNKNOWN> <UNKNOWN> alcoholic ever to have graced the screen while Shue looks more like a <UNKNOWN> <UNKNOWN> slumming it for a summer than some seasoned <UNKNOWN> . She is humiliated and <UNKNOWN> as often as possible in this revolting movie with <UNKNOWN> , skin <UNKNOWN> , anal rape and graphic verbal abuse - all of it completely implausible and included apparently only to convey a sense of her horribly <UNKNOWN> state and offer the male viewers an astonishingly clichéd sentimental sexual fantasy of the <UNKNOWN> ' . Still - I did watch it to the end , by which time I was actually laughing out loud as Shue 's tough street hooker chopped <UNKNOWN> in the kitchen <UNKNOWN> , pathetically smiling while Cage - all eyes popping and shaking like like a man operating a road drill in an earthquake - <UNKNOWN> and <UNKNOWN> his way through the final half-hour ...\n",
            "(231 tokens) Earth has been destroyed in a nuclear holocaust . Well , parts of the Earth , because somewhere in Italy , a band of <UNKNOWN> survivors -- those without radioactive <UNKNOWN> -- are <UNKNOWN> up in a massive mansion surrounded by lush grounds , waiting for the next opportunity to go hunting for those with <UNKNOWN> blood . The Final <UNKNOWN> is the story of one of their would be victims , Alan ( William <UNKNOWN> , who looks , not surprisingly , a lot like Kurt Russell ) , and his efforts to take down the legally <UNKNOWN> hunters , who are led by <UNKNOWN> ( Marina <UNKNOWN> ) and <UNKNOWN> ( Harrison Muller Jr. ) . Alan has been trained to kill by former <UNKNOWN> cop Sam ( Woody <UNKNOWN> ) who mostly hangs around giving his <UNKNOWN> moral support and <UNKNOWN> for <UNKNOWN> meat . <UNKNOWN> is by far the best thing about the film , though he does n't look at all well and only appears for about a third of the running time . As for the story , it 's a blending of elements from better films and stories , including Ten Little Indians , The Most Dangerous Game , and Escape From New York . The Final <UNKNOWN> moves along at a fair pace and provides reasonable entertainment for less <UNKNOWN> action fans .\n",
            "\n",
            "\n",
            "False Negative\n",
            "==============\n",
            "(169 tokens) I went and saw this movie last night after being <UNKNOWN> to by a few friends of mine . I 'll admit that I was reluctant to see it because from what I knew of <UNKNOWN> <UNKNOWN> he was only able to do comedy . I was wrong . <UNKNOWN> played the character of Jake <UNKNOWN> very well , and Kevin Costner played Ben Randall with such professionalism . The sign of a good movie is that it can toy with our emotions . This one did exactly that . The entire theater ( which was sold out ) was overcome by laughter during the first half of the movie , and were moved to tears during the second half . While <UNKNOWN> the theater I not only saw many women in tears , but many full grown men as well , trying desperately not to let anyone see them crying . This movie was great , and I suggest that you go see it before you judge .\n",
            "(147 tokens) I saw this film in a sneak preview , and it is delightful . The cinematography is unusually creative , the acting is good , and the story is fabulous . If this movie does not do well , it wo n't be because it does n't deserve to . Before this film , I did n't realize how charming Shia <UNKNOWN> could be . He does a marvelous , <UNKNOWN> , job as the lead . There 's something incredibly sweet about him , and it makes the movie even better . The other actors do a good job as well , and the film contains moments of really high suspense , more than one might expect from a movie about golf . <UNKNOWN> movies are a dime a dozen , but this one stands out . This is one I 'd recommend to anyone .\n",
            "(392 tokens) Maybe I 'm reading into this too much , but I wonder how much of a hand <UNKNOWN> had in developing the film . I mean , when a story is told casting the main character as himself , I would think he would be a heavy hand in writing , <UNKNOWN> , etc . and that would make it a little biased . But ... his family and friends also may have had a hand in getting the actual details about <UNKNOWN> 's life . I think the best view would have been told from <UNKNOWN> 's family and friends ' perspectives . They saw his transformation and were n't so messed up on drugs that they remember everything . As for <UNKNOWN> being full of himself , the <UNKNOWN> of the Jesus Christ pose make him appear as a <UNKNOWN> who sacrificed his life ( <UNKNOWN> , of course , he 's obviously still alive as he was cast as himself ) for his family 's happiness . Huh ? The viewer sees him at his lowest points while still maintaining a <UNKNOWN> complex . He lies on the grass coming down from ( during ? ) a high by himself and with his father , he <UNKNOWN> life and has visions of dragons at his window , he celebrates his freedom on a bicycle all while <UNKNOWN> his arms , his head <UNKNOWN> to the side . It 's fabulous that he 's off of drugs now , but he 's no hero . He went from a high point in his career in acting to his most vulnerable point while on drugs to come back somewhere in the middle . This same device is used in Ted Demme 's `` Blow '' where the audience <UNKNOWN> with the main character who is shown as a flawed hero . However , `` <UNKNOWN> '' ( `` <UNKNOWN> '' ) is a film that is recommended , mostly for its haunting soundtrack , superb acting , and landscapes . But , the best part is the feeling that one gets when what we presume to be the house of <UNKNOWN> <UNKNOWN> is actually a stage setting for a play . It makes the viewer feel as if <UNKNOWN> 's life was merely a play told in many difficult parts .\n",
            "\n",
            "\n"
          ]
        }
      ],
      "source": [
        "for ex_type, examples in lm_clf_examples.items():\n",
        "    print(ex_type)\n",
        "    print('==============')\n",
        "\n",
        "    for ex in examples:\n",
        "        print(f\"({len(ex)} tokens) {sample_to_text(ex, id2token)}\")\n",
        "    print('\\n')"
      ]
    },
    {
      "attachments": {},
      "cell_type": "markdown",
      "metadata": {
        "id": "A-11YN4Ev_4q"
      },
      "source": [
        "**B - GloVe Classifier**"
      ]
    },
    {
      "cell_type": "code",
      "execution_count": 51,
      "metadata": {
        "id": "CzykLbVkwsgb"
      },
      "outputs": [],
      "source": [
        "glv_clf_examples = get_error_examples(glv_clf, clf_test_ds)"
      ]
    },
    {
      "cell_type": "code",
      "execution_count": 52,
      "metadata": {
        "colab": {
          "base_uri": "https://localhost:8080/",
          "height": 0
        },
        "id": "sVyrDY7hZkZ3",
        "outputId": "1467f514-5ed2-4e14-e735-23b1e56734bd"
      },
      "outputs": [
        {
          "name": "stdout",
          "output_type": "stream",
          "text": [
            "False Positive\n",
            "==============\n",
            "(187 tokens) Once again Mr. Costner has dragged out a movie for far longer than necessary . Aside from the terrific sea rescue sequences , of which there are very few I just did not care about any of the characters . Most of us have ghosts in the closet , and Costner 's character are realized early on , and then forgotten until much later , by which time I did not care . The character we should really care about is a very cocky , <UNKNOWN> <UNKNOWN> <UNKNOWN> . The problem is he comes off as kid who thinks he 's better than anyone else around him and shows no signs of a <UNKNOWN> closet . His only obstacle appears to be winning over Costner . Finally when we are well past the half way point of this stinker , Costner tells us all about <UNKNOWN> 's ghosts . We are told why <UNKNOWN> is driven to be the best with no prior <UNKNOWN> or foreshadowing . No magic here , it was all I could do to keep from turning it off an hour in .\n",
            "(272 tokens) <UNKNOWN> pictures ( movies is not a fitting word for them ) really are somewhat <UNKNOWN> . Their alluring visual qualities are reminiscent of expensive high class TV commercials . But unfortunately <UNKNOWN> pictures are feature films with the pretense of wanting to entertain viewers for over two hours ! In this they fail miserably , their undeniable , but rather soft and <UNKNOWN> than steamy , erotic qualities non <UNKNOWN> . <UNKNOWN> <UNKNOWN> is a remake of a film by <UNKNOWN> Visconti with the same title and <UNKNOWN> <UNKNOWN> and <UNKNOWN> Granger in the lead . The original tells a story of senseless love and lust in and around Venice during the Italian wars of independence . <UNKNOWN> moved the action from the 19th into the 20th century , 1945 to be exact , so there are <UNKNOWN> <UNKNOWN> , men in black shirts , German uniforms or the <UNKNOWN> <UNKNOWN> of the <UNKNOWN> . But it is just window dressing , the historic context is completely <UNKNOWN> . Anna <UNKNOWN> plays the attractive aristocratic woman who falls for the amoral SS guy who always puts on too much <UNKNOWN> . She is an attractive , versatile , well trained Italian actress and clearly above the material . Her wide range of facial expressions ( <UNKNOWN> boredom , <UNKNOWN> , delight , fear , hate ... and <UNKNOWN> ) are the best reason to watch this picture and worth two stars . She endures this basically trashy stuff with an astonishing amount of dignity . I wish some really good parts come along for her . She really deserves it .\n",
            "(178 tokens) This German horror film has to be one of the <UNKNOWN> I have seen . I was not aware of any connection between child abuse and <UNKNOWN> , but this is supposed based upon a true character . Our hero is deaf and mute as a result of repeated <UNKNOWN> at the hands of his father . he also has a doll fetish , but I can not figure out where that came from . His co-workers find out and tease him terribly . During the day a <UNKNOWN> <UNKNOWN> , and at night he breaks into <UNKNOWN> and funeral homes and drinks the blood of dead girls . They are all attractive , of course , else we would n't care about the fact that he usually tears their clothing down to the waist . He <UNKNOWN> eventually to actually killing , and that is what gets him caught . Like I said , a very strange movie that is dark and very slow as Werner <UNKNOWN> never talks and just spends his time drinking blood .\n",
            "\n",
            "\n",
            "False Negative\n",
            "==============\n",
            "(125 tokens) My wife is a mental health therapist and we watched it from beginning to end . I am the typical man and can not stand chick flicks , but this movie is unbelievable . If you want to see what it is like for someone who is going through these type of struggles , this is the movie for you . As I watched it I found myself feeling sorry for him and others like him . * * * Spoiler * * * Plus the fact that all the individuals in the movie including the people in the mental institution were the actual people in real life made it that more real . A must see for someone in the mental health profession !\n",
            "(217 tokens) `` Night of the <UNKNOWN> '' stars French porn star Brigitte <UNKNOWN> fact , many of the cast members in this slow-moving production were porn actors at the time of its frantic <UNKNOWN> film is certainly different than <UNKNOWN> 's usual lesbian vampire flicks , but it 's not as memorable as for example `` Lips of Blood '' or `` <UNKNOWN> '' <UNKNOWN> plays an <UNKNOWN> hitchhiker who ca n't remember who she is or where she came <UNKNOWN> of the film takes place in a modern apartment complex , where <UNKNOWN> is being held by some kind of medical group that 's treating a number of people with a similar <UNKNOWN> , she escapes from the <UNKNOWN> office tower where the affected people are <UNKNOWN> a highway outside of town , she meets a young man , who stops and picks her up . `` Night of the <UNKNOWN> '' offers plenty of nudity , unfortunately the pace is extremely <UNKNOWN> atmosphere is horribly sad and the relationship between Brigitte <UNKNOWN> and another asylum inmate <UNKNOWN> <UNKNOWN> is <UNKNOWN> `` Night of the <UNKNOWN> '' is too dull to be completely <UNKNOWN> it a look only if you are a fan of Jean <UNKNOWN> 's <UNKNOWN> out of 10 and that 's being kind .\n",
            "(146 tokens) While I ca n't say whether or not Larry <UNKNOWN> ever saw any of the old cartoons , I would think that writing said cartoons , file cards , and some of the comics would count for something . For fans of the old cartoon , this is pretty much a continuation of the same , except with a few new characters - and a more insane <UNKNOWN> Commander . We still have all the old favorites too , but on a personal note , one thing that always irritated me was this `` Duke in charge '' stuff , when there are tons of other * officers * around instead . The battle sequences are similar to the old series as well ; the main trick here seems to be the CGI . It 's overall pretty good , if not a little over-the-top .\n",
            "\n",
            "\n"
          ]
        }
      ],
      "source": [
        "for ex_type, examples in glv_clf_examples.items():\n",
        "    print(ex_type)\n",
        "    print('==============')\n",
        "\n",
        "    for ex in examples:\n",
        "        print(f\"({len(ex)} tokens) {sample_to_text(ex, id2token)}\")\n",
        "    print('\\n')"
      ]
    },
    {
      "attachments": {},
      "cell_type": "markdown",
      "metadata": {
        "id": "SQR5LR7ewEF8"
      },
      "source": [
        "#### 2.4.3 Conlusions"
      ]
    },
    {
      "attachments": {},
      "cell_type": "markdown",
      "metadata": {
        "id": "tkWZ25HgTKbO"
      },
      "source": [
        "As we can see, the reviews are sequences that contain few hundreds of tokens. The errors for both models might be due to the fact that they weren't able to learn a context that big.\n",
        "\n",
        "In addition, there are a lot of tokens that are UNKNOWN to our vocabulary, making it harder for our classifiers to determine the right classification.\n",
        "\n",
        "To sum up, it seems that our Language Model Classifier was able to learn, as it scored above 61% accuracy on the test set. However, our GloVe classifier was much better, as it had above 87% accuracy on the test set."
      ]
    }
  ],
  "metadata": {
    "accelerator": "GPU",
    "colab": {
      "gpuType": "A100",
      "machine_shape": "hm",
      "provenance": []
    },
    "kernelspec": {
      "display_name": "Python 3",
      "name": "python3"
    },
    "language_info": {
      "codemirror_mode": {
        "name": "ipython",
        "version": 3
      },
      "file_extension": ".py",
      "mimetype": "text/x-python",
      "name": "python",
      "nbconvert_exporter": "python",
      "pygments_lexer": "ipython3",
      "version": "3.10.9"
    }
  },
  "nbformat": 4,
  "nbformat_minor": 0
}
